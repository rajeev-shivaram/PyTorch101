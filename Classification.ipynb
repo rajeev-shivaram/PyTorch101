{
  "nbformat": 4,
  "nbformat_minor": 0,
  "metadata": {
    "colab": {
      "name": "Classification.ipynb",
      "version": "0.3.2",
      "provenance": [],
      "collapsed_sections": [],
      "include_colab_link": true
    },
    "kernelspec": {
      "name": "python3",
      "display_name": "Python 3"
    }
  },
  "cells": [
    {
      "cell_type": "markdown",
      "metadata": {
        "id": "view-in-github",
        "colab_type": "text"
      },
      "source": [
        "<a href=\"https://colab.research.google.com/github/rajeev-shivaram/PyTorch101/blob/master/Classification.ipynb\" target=\"_parent\"><img src=\"https://colab.research.google.com/assets/colab-badge.svg\" alt=\"Open In Colab\"/></a>"
      ]
    },
    {
      "cell_type": "markdown",
      "metadata": {
        "id": "JfAcI4m-fuFc",
        "colab_type": "text"
      },
      "source": [
        "Perceptron is a single layered neural network\n",
        "Fundamentally, the basic form of a neural network\n",
        "\n",
        "What differneciates them from human cells is a technique called back propogation"
      ]
    },
    {
      "cell_type": "code",
      "metadata": {
        "id": "suLkZUV8YGZG",
        "colab_type": "code",
        "colab": {}
      },
      "source": [
        "import torch\n",
        "import torch.nn as nn\n",
        "import numpy as np\n",
        "from sklearn import datasets\n",
        "import matplotlib.pyplot as plt"
      ],
      "execution_count": 0,
      "outputs": []
    },
    {
      "cell_type": "markdown",
      "metadata": {
        "id": "pvZW57VngsLS",
        "colab_type": "text"
      },
      "source": [
        "Plan of Action:\n",
        "1. Use Sklearn to create a linearly seperable dataset\n",
        "2. Create a perceptron based NN using torch to train and fit our dataset such that it's a ble to sperate our dataset into two discrete classes."
      ]
    },
    {
      "cell_type": "code",
      "metadata": {
        "id": "Wk_apHychJzD",
        "colab_type": "code",
        "colab": {}
      },
      "source": [
        "n_pts = 100\n",
        "centers = [[-0.5, 0.5], [0.5, -0.5]]\n",
        "X, y = datasets.make_blobs(n_samples=n_pts, random_state=123, centers=centers, cluster_std=0.4)\n",
        "\n",
        "# make_blobs:= generates a numpy\n",
        "# random_state:=sets the seed for sampling.\n",
        "# centers:= indicate the center point of clusters we want to create.\n",
        "# cluster_std:= std.deviation of clustered points around center.\n",
        "# 0 causes points to be generated @ the center point, as value increases the generated points deviate from center\n",
        "\n",
        "# Also converting them into tensor type from numpy\n",
        "x_data = torch.Tensor(X)\n",
        "y_data = torch.Tensor(y).reshape([100, 1])"
      ],
      "execution_count": 0,
      "outputs": []
    },
    {
      "cell_type": "code",
      "metadata": {
        "id": "1AHtxm-n7s5y",
        "colab_type": "code",
        "colab": {}
      },
      "source": [
        "def scatter_plot():\n",
        "  plt.scatter(X[y==0, 0], X[y==0, 1]) # plots points have y:label as 0\n",
        "  plt.scatter(X[y==1, 0], X[y==1, 1]) # plts points have y:label as 1 "
      ],
      "execution_count": 0,
      "outputs": []
    },
    {
      "cell_type": "code",
      "metadata": {
        "id": "ydpkzzJOHymZ",
        "colab_type": "code",
        "colab": {
          "base_uri": "https://localhost:8080/",
          "height": 269
        },
        "outputId": "647b6d31-9598-448c-85cb-1432e1d0dcae"
      },
      "source": [
        "scatter_plot()"
      ],
      "execution_count": 4,
      "outputs": [
        {
          "output_type": "display_data",
          "data": {
            "image/png": "[encoded data removed]",
            "text/plain": [
              "<Figure size 432x288 with 1 Axes>"
            ]
          },
          "metadata": {
            "tags": []
          }
        }
      ]
    },
    {
      "cell_type": "code",
      "metadata": {
        "id": "LYOQbdjN8p3v",
        "colab_type": "code",
        "colab": {}
      },
      "source": [
        "class Model(nn.Module):\n",
        "  def __init__(self, input_size, output_size):\n",
        "    super().__init__()\n",
        "    self.linear = nn.Linear(input_size, output_size)\n",
        "  def forward(self, x):\n",
        "    pred = torch.sigmoid(self.linear(x))\n",
        "    return pred\n",
        "  def predict(self, x):\n",
        "    pred = model.forward(x)\n",
        "    if pred >= 0.5:\n",
        "      return 1\n",
        "    else:\n",
        "      return 0"
      ],
      "execution_count": 0,
      "outputs": []
    },
    {
      "cell_type": "code",
      "metadata": {
        "id": "dzzBFYjw9m_U",
        "colab_type": "code",
        "colab": {
          "base_uri": "https://localhost:8080/",
          "height": 68
        },
        "outputId": "2e03d445-976c-4228-e1b4-db2cde5be334"
      },
      "source": [
        "torch.manual_seed(2)\n",
        "model = Model(2, 1)\n",
        "print(list(model.parameters()))"
      ],
      "execution_count": 6,
      "outputs": [
        {
          "output_type": "stream",
          "text": [
            "[Parameter containing:\n",
            "tensor([[ 0.1622, -0.1683]], requires_grad=True), Parameter containing:\n",
            "tensor([0.1939], requires_grad=True)]\n"
          ],
          "name": "stdout"
        }
      ]
    },
    {
      "cell_type": "code",
      "metadata": {
        "id": "MERR53eLCnbG",
        "colab_type": "code",
        "colab": {
          "base_uri": "https://localhost:8080/",
          "height": 34
        },
        "outputId": "6e987dda-3c2b-4448-c937-99491277d268"
      },
      "source": [
        "def get_params():\n",
        "  [w, b] = model.parameters()\n",
        "  w1, w2 = w.view(2)\n",
        "  b0 = b[0]\n",
        "  return(w1.item(), w2.item(), b0.item())\n",
        "\n",
        "get_params()"
      ],
      "execution_count": 7,
      "outputs": [
        {
          "output_type": "execute_result",
          "data": {
            "text/plain": [
              "(0.16220331192016602, -0.1682732105255127, 0.19390898942947388)"
            ]
          },
          "metadata": {
            "tags": []
          },
          "execution_count": 7
        }
      ]
    },
    {
      "cell_type": "code",
      "metadata": {
        "id": "5bokff8rFTG-",
        "colab_type": "code",
        "colab": {}
      },
      "source": [
        "def plot_fit(title):\n",
        "  plt.title = title\n",
        "  w1, w2, b1 = get_params()\n",
        "  \n",
        "  x1 = np.array([-2.0, 2.0])\n",
        "  \n",
        "  # Derived equ of line\n",
        "  # 0 = w1*x1 + w2*x2 + b1\n",
        "  x2 = (w1*x1 + b1) / (-w2)\n",
        "  \n",
        "  plt.plot(x1, x2, 'r')\n",
        "  scatter_plot()\n",
        "  "
      ],
      "execution_count": 0,
      "outputs": []
    },
    {
      "cell_type": "code",
      "metadata": {
        "id": "tgN_NY1oH9kK",
        "colab_type": "code",
        "colab": {
          "base_uri": "https://localhost:8080/",
          "height": 269
        },
        "outputId": "2ac27cc9-c3cd-4e73-d98d-e9ee4c756fe7"
      },
      "source": [
        "plot_fit('INIT MODEL')"
      ],
      "execution_count": 9,
      "outputs": [
        {
          "output_type": "display_data",
          "data": {
            "image/png": "[encoded data removed]",
            "text/plain": [
              "<Figure size 432x288 with 1 Axes>"
            ]
          },
          "metadata": {
            "tags": []
          }
        }
      ]
    },
    {
      "cell_type": "code",
      "metadata": {
        "id": "bz3wVXZdISEy",
        "colab_type": "code",
        "colab": {
          "base_uri": "https://localhost:8080/",
          "height": 34
        },
        "outputId": "1d988544-d34f-4abe-eaa5-baeeaddc1735"
      },
      "source": [
        "criterion = nn.BCELoss()\n",
        "optimizer = torch.optim.SGD(model.parameters(), lr=0.01)\n",
        "epochs = 1000\n",
        "losses = []\n",
        "for i in range(epochs):\n",
        "  y_pred = model(x_data)\n",
        "  loss = criterion(y_pred, y_data)\n",
        "#  print(\"epoch:\", i, \"loss:\", loss.item())\n",
        "  losses.append(loss.item())\n",
        "  optimizer.zero_grad()\n",
        "  loss.backward()\n",
        "  optimizer.step()\n",
        "print(\"Loss:\", losses[-1])"
      ],
      "execution_count": 10,
      "outputs": [
        {
          "output_type": "stream",
          "text": [
            "Loss: 0.2561522126197815\n"
          ],
          "name": "stdout"
        }
      ]
    },
    {
      "cell_type": "code",
      "metadata": {
        "id": "172-YYtyL_Fv",
        "colab_type": "code",
        "colab": {
          "base_uri": "https://localhost:8080/",
          "height": 300
        },
        "outputId": "ad87a4fe-2032-47fd-e856-57265c413fa6"
      },
      "source": [
        "plt.plot(range(epochs), losses)\n",
        "plt.xlabel('Epochs')\n",
        "plt.ylabel('Loss')"
      ],
      "execution_count": 11,
      "outputs": [
        {
          "output_type": "execute_result",
          "data": {
            "text/plain": [
              "Text(0, 0.5, 'Loss')"
            ]
          },
          "metadata": {
            "tags": []
          },
          "execution_count": 11
        },
        {
          "output_type": "display_data",
          "data": {
            "image/png": "[encoded data removed]",
            "text/plain": [
              "<Figure size 432x288 with 1 Axes>"
            ]
          },
          "metadata": {
            "tags": []
          }
        }
      ]
    },
    {
      "cell_type": "code",
      "metadata": {
        "id": "FaiVNMIBMXKq",
        "colab_type": "code",
        "colab": {
          "base_uri": "https://localhost:8080/",
          "height": 269
        },
        "outputId": "e18ab2e1-18ff-4d8f-e211-dd13de05a6e7"
      },
      "source": [
        "plot_fit('Trained Model')"
      ],
      "execution_count": 12,
      "outputs": [
        {
          "output_type": "display_data",
          "data": {
            "image/png": "[encoded data removed]",
            "text/plain": [
              "<Figure size 432x288 with 1 Axes>"
            ]
          },
          "metadata": {
            "tags": []
          }
        }
      ]
    },
    {
      "cell_type": "code",
      "metadata": {
        "id": "djFnFOYfMsV_",
        "colab_type": "code",
        "colab": {
          "base_uri": "https://localhost:8080/",
          "height": 303
        },
        "outputId": "8f39ecfb-9a73-4771-b8be-3a1713a5a55f"
      },
      "source": [
        "# Testing the model\n",
        "point1 = torch.tensor([1.0, -1.0])\n",
        "point2 = torch.tensor([-1.0, 1.0])\n",
        "\n",
        "# plot the points on the plot\n",
        "plt.plot(point1[0].item(), point1[1].item(), 'ro')\n",
        "plt.plot(point2[0].item(), point2[1].item(), 'ko')\n",
        "plot_fit('Trained Model')\n",
        "\n",
        "print(f'Prob of Red point:{model(point1).item()}')\n",
        "print(f'Prob of Black point:{model(point2).item()}')\n",
        "print(f'Red   is of Class {model.predict(point1)}')\n",
        "print(f'Black is of Class {model.predict(point2)}')"
      ],
      "execution_count": 13,
      "outputs": [
        {
          "output_type": "stream",
          "text": [
            "Red   is of Class 1\n",
            "Black is of Class 0\n"
          ],
          "name": "stdout"
        },
        {
          "output_type": "display_data",
          "data": {
            "image/png": "[encoded data removed]",
            "text/plain": [
              "<Figure size 432x288 with 1 Axes>"
            ]
          },
          "metadata": {
            "tags": []
          }
        }
      ]
    }
  ]
}