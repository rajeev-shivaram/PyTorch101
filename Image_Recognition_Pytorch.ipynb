{
  "nbformat": 4,
  "nbformat_minor": 0,
  "metadata": {
    "colab": {
      "name": "Copy of Image_Recognition_Pytorch.ipynb",
      "version": "0.3.2",
      "provenance": [],
      "collapsed_sections": [],
      "include_colab_link": true
    },
    "language_info": {
      "codemirror_mode": {
        "name": "ipython",
        "version": 3
      },
      "file_extension": ".py",
      "mimetype": "text/x-python",
      "name": "python",
      "nbconvert_exporter": "python",
      "pygments_lexer": "ipython3",
      "version": "3.7.3"
    },
    "kernelspec": {
      "name": "python3",
      "display_name": "Python 3"
    },
    "accelerator": "TPU"
  },
  "cells": [
    {
      "cell_type": "markdown",
      "metadata": {
        "id": "view-in-github",
        "colab_type": "text"
      },
      "source": [
        "<a href=\"https://colab.research.google.com/github/rajeev-shivaram/PyTorch101/blob/master/Image_Recognition_Pytorch.ipynb\" target=\"_parent\"><img src=\"https://colab.research.google.com/assets/colab-badge.svg\" alt=\"Open In Colab\"/></a>"
      ]
    },
    {
      "cell_type": "code",
      "metadata": {
        "id": "u7_OsptAdK4f",
        "colab_type": "code",
        "colab": {}
      },
      "source": [
        "import numpy as np\n",
        "import matplotlib.pyplot as plt\n",
        "from tqdm import tqdm\n",
        "\n",
        "import torch\n",
        "import torch.nn as nn\n",
        "import torch.nn.functional as F\n",
        "from torchvision import datasets, transforms"
      ],
      "execution_count": 0,
      "outputs": []
    },
    {
      "cell_type": "markdown",
      "metadata": {
        "id": "PP-VTSi0iGLN",
        "colab_type": "text"
      },
      "source": [
        "1. training loader : is used to specify training batches, for every epoch, we passed through the dataset and 600000 is too big so we divide into batches\n",
        "  with batch_size=100, it'll take 600 epochs to complete one iteration\n",
        "  we set shuffle True as we dont want it to get stuck at a local minima, also batch_size depends on the GPU currently in use and also the size of dataset."
      ]
    },
    {
      "cell_type": "code",
      "metadata": {
        "id": "IDzyEwX2dK4m",
        "colab_type": "code",
        "colab": {}
      },
      "source": [
        "transform = transforms.Compose([transforms.Resize((28, 28)),\n",
        "                                transforms.ToTensor(),\n",
        "                               transforms.Normalize((0.5,), (0.5,))])\n",
        "training_dataset = datasets.MNIST(root=\"./data\", train=True, download=True, transform=transform)\n",
        "validation_dataset = datasets.MNIST(root='./data', train=False, download=True, transform=transform)\n",
        "\n",
        "# 1\n",
        "training_loader = torch.utils.data.DataLoader(dataset=training_dataset, batch_size=100, shuffle=True)\n",
        "validation_loader = torch.utils.data.DataLoader(dataset=validation_dataset, batch_size=100, shuffle=False)"
      ],
      "execution_count": 0,
      "outputs": []
    },
    {
      "cell_type": "markdown",
      "metadata": {
        "id": "rJ42bvd7lOaJ",
        "colab_type": "text"
      },
      "source": [
        "1 before converting to numpy array, we will clone it to create a new copy of tensor and use detach\n",
        "\n",
        "\n",
        "2 now we have a numpy array which represents 1st as color channel and 2nd & 3rd as height and width (1, 28, 28)\n",
        "  but to plot our image we need to have it in (h, w, colorChannel)\n",
        "  here, we swap axis 0, for axis 1, axis 1 for 2, and axis 0 in end.\n",
        "  \n",
        " 3 since we had normalized the image we de-normalize the image;normalizing consists of subtracting the mean and dividing by std deviation so denorm has..\n",
        " \n",
        " 4 previously normalizing converted our image from range 0->1 to -1->1 and set the image to 0->1 we can set, applying a clip func for a min value of 0 to max val of 1."
      ]
    },
    {
      "cell_type": "code",
      "metadata": {
        "id": "QBfknfxLdK4v",
        "colab_type": "code",
        "colab": {}
      },
      "source": [
        "def im_convert(tensor):\n",
        "  \"\"\"to plot the dataset, we make use of an numpy array\"\"\"\n",
        "  # 1 \n",
        "  image = tensor.clone().detach().numpy()\n",
        "  \n",
        "  # 2\n",
        "  image = image.transpose(1, 2, 0)\n",
        "  print(image.shape)\n",
        "  # 3\n",
        "  image = image * np.array((0.5, 0.5, 0.5)) + np.array((0.5, 0.5, 0.5))\n",
        "  \n",
        "  # 4\n",
        "  image = image.clip(0, 1)\n",
        "  \n",
        "  return image\n",
        "  "
      ],
      "execution_count": 0,
      "outputs": []
    },
    {
      "cell_type": "markdown",
      "metadata": {
        "id": "7oltac05jG71",
        "colab_type": "text"
      },
      "source": [
        "Wrap training_loader in an iter so we can iterate through it\n",
        "and next element is accessed by calling next on our data iter\n",
        "\n",
        "each iter can be split into images and labels\n",
        "\n",
        "---\n",
        "\n"
      ]
    },
    {
      "cell_type": "code",
      "metadata": {
        "id": "1xVkay-zjAae",
        "colab_type": "code",
        "outputId": "12600ec3-b9a9-4020-e363-09e82832ceed",
        "colab": {
          "base_uri": "https://localhost:8080/",
          "height": 628
        }
      },
      "source": [
        "# 1\n",
        "dataiter = iter(training_loader)\n",
        "\n",
        "# 2\n",
        "images, labels = dataiter.next()\n",
        "\n",
        "fig = plt.figure(figsize=(25, 4))  # width and height of images\n",
        "\n",
        "for idx in np.arange(20):\n",
        "  ax = fig.add_subplot(2, 10, idx+1, xticks=[], yticks=[]) # no of rows and 10 columns per row (10 images total), index and must be between 1 and 20\n",
        "  plt.imshow(im_convert(images[idx]))\n",
        "  ax.set_title(labels[idx].item())"
      ],
      "execution_count": 4,
      "outputs": [
        {
          "output_type": "stream",
          "text": [
            "(28, 28, 1)\n",
            "(28, 28, 1)\n",
            "(28, 28, 1)\n",
            "(28, 28, 1)\n",
            "(28, 28, 1)\n",
            "(28, 28, 1)\n",
            "(28, 28, 1)\n",
            "(28, 28, 1)\n",
            "(28, 28, 1)\n",
            "(28, 28, 1)\n",
            "(28, 28, 1)\n",
            "(28, 28, 1)\n",
            "(28, 28, 1)\n",
            "(28, 28, 1)\n",
            "(28, 28, 1)\n",
            "(28, 28, 1)\n",
            "(28, 28, 1)\n",
            "(28, 28, 1)\n",
            "(28, 28, 1)\n",
            "(28, 28, 1)\n"
          ],
          "name": "stdout"
        },
        {
          "output_type": "display_data",
          "data": {
            "image/png": "[encoded data removed]",
            "text/plain": [
              "<Figure size 1800x288 with 20 Axes>"
            ]
          },
          "metadata": {
            "tags": []
          }
        }
      ]
    },
    {
      "cell_type": "markdown",
      "metadata": {
        "id": "k4_7Rvd2qLlr",
        "colab_type": "text"
      },
      "source": [
        "1. Te activation function is not applied to the last layer. what we get is the raw output of the network often called the score whicg=h is significatly used in calculating the cross-entropy loss of muticlass dataset namely nn.CrossEntropyLoss -> used for multiclass classification; combination of log_softmax + NegitiveLogLikelyhoodLoss/NLLLoss()"
      ]
    },
    {
      "cell_type": "code",
      "metadata": {
        "id": "kR40keRUkpxK",
        "colab_type": "code",
        "colab": {}
      },
      "source": [
        "class Classifier(nn.Module):\n",
        "  \n",
        "  def __init__(self, D_in, H1, H2, D_out):\n",
        "    \"\"\"Define the Layers of the model\"\"\"\n",
        "    super(Classifier, self).__init__()\n",
        "    self.linear1 = nn.Linear(D_in, H1)\n",
        "    self.linear2 = nn.Linear(H1, H2)\n",
        "    self.linear3 = nn.Linear(H2, D_out)\n",
        "   \n",
        "  def forward(self, x):\n",
        "    \"\"\"Define the prediction function of model\"\"\"\n",
        "    x = F.relu(self.linear1(x))\n",
        "    x = F.relu(self.linear2(x))\n",
        "    x = self.linear3(x)  # 1\n",
        "    return x"
      ],
      "execution_count": 0,
      "outputs": []
    },
    {
      "cell_type": "code",
      "metadata": {
        "id": "ycTrm7bydQ38",
        "colab_type": "code",
        "outputId": "21c9ba9e-9152-4903-f295-b0895fc8715d",
        "colab": {
          "base_uri": "https://localhost:8080/",
          "height": 102
        }
      },
      "source": [
        "model = Classifier(784, 125, 65, 10)\n",
        "model"
      ],
      "execution_count": 6,
      "outputs": [
        {
          "output_type": "execute_result",
          "data": {
            "text/plain": [
              "Classifier(\n",
              "  (linear1): Linear(in_features=784, out_features=125, bias=True)\n",
              "  (linear2): Linear(in_features=125, out_features=65, bias=True)\n",
              "  (linear3): Linear(in_features=65, out_features=10, bias=True)\n",
              ")"
            ]
          },
          "metadata": {
            "tags": []
          },
          "execution_count": 6
        }
      ]
    },
    {
      "cell_type": "code",
      "metadata": {
        "id": "n2QsjFVxtFp6",
        "colab_type": "code",
        "colab": {}
      },
      "source": [
        "criterion = nn.CrossEntropyLoss()\n",
        "optimizer = torch.optim.Adam(model.parameters(), lr=0.01)"
      ],
      "execution_count": 0,
      "outputs": []
    },
    {
      "cell_type": "code",
      "metadata": {
        "id": "095hgbMltT-y",
        "colab_type": "code",
        "outputId": "93b260ed-29d9-44a2-e8f2-8958be4888ba",
        "colab": {
          "base_uri": "https://localhost:8080/",
          "height": 782
        }
      },
      "source": [
        "epochs = 15\n",
        "running_loss_history = []\n",
        "running_corrects_history = []\n",
        "val_running_loss_history = []\n",
        "val_running_corrects_history = []\n",
        "\n",
        "for e in range(epochs):\n",
        "  \n",
        "  running_loss = 0.0\n",
        "  running_corrects = 0.0\n",
        "  val_running_loss = 0.0\n",
        "  val_running_corrects = 0.0\n",
        "  \n",
        "  for inputs, labels in training_loader:\n",
        "    inputs = inputs.view(inputs.shape[0], -1)\n",
        "    outputs = model(inputs)\n",
        "    loss = criterion(outputs, labels)\n",
        "    \n",
        "    optimizer.zero_grad()\n",
        "    loss.backward()\n",
        "    optimizer.step()\n",
        "    \n",
        "    _, preds = torch.max(outputs, 1)\n",
        "    running_loss += loss.item()\n",
        "    running_corrects += torch.sum(preds == labels.data)\n",
        "\n",
        "  else:\n",
        "    with torch.no_grad():\n",
        "      for val_inputs, val_labels in validation_loader:\n",
        "        val_inputs = val_inputs.view(val_inputs.shape[0], -1)\n",
        "        val_outputs = model(val_inputs)\n",
        "        val_loss = criterion(val_outputs, val_labels)\n",
        "        \n",
        "        _, val_preds = torch.max(val_outputs, 1)\n",
        "        val_running_loss += val_loss.item()\n",
        "        val_running_corrects += torch.sum(val_preds == val_labels.data)\n",
        "      \n",
        "    epoch_loss = running_loss/len(training_loader)\n",
        "    epoch_acc = running_corrects.float()/ len(training_loader)\n",
        "    running_loss_history.append(epoch_loss)\n",
        "    running_corrects_history.append(epoch_acc)\n",
        "    \n",
        "    val_epoch_loss = val_running_loss/len(validation_loader)\n",
        "    val_epoch_acc = val_running_corrects.float()/ len(validation_loader)\n",
        "    val_running_loss_history.append(val_epoch_loss)\n",
        "    val_running_corrects_history.append(val_epoch_acc)\n",
        "    \n",
        "    print(f\"Epoch: {e+1}\")\n",
        "    print(f\"TrainingLoss: {epoch_loss:.4f}, acc: {epoch_acc:.4f}\")\n",
        "    print(f\"ValidationLoss: {val_epoch_loss:.4f}, acc: {val_epoch_acc:.4f}\")\n",
        "    "
      ],
      "execution_count": 8,
      "outputs": [
        {
          "output_type": "stream",
          "text": [
            "Epoch: 1\n",
            "TrainingLoss: 0.3676, acc: 88.4867\n",
            "ValidationLoss: 0.2020, acc: 93.9700\n",
            "Epoch: 2\n",
            "TrainingLoss: 0.2175, acc: 93.3983\n",
            "ValidationLoss: 0.2141, acc: 93.5400\n",
            "Epoch: 3\n",
            "TrainingLoss: 0.1878, acc: 94.4567\n",
            "ValidationLoss: 0.2019, acc: 94.2900\n",
            "Epoch: 4\n",
            "TrainingLoss: 0.1851, acc: 94.5417\n",
            "ValidationLoss: 0.1817, acc: 94.6900\n",
            "Epoch: 5\n",
            "TrainingLoss: 0.1734, acc: 94.9900\n",
            "ValidationLoss: 0.1742, acc: 94.9700\n",
            "Epoch: 6\n",
            "TrainingLoss: 0.1659, acc: 95.3000\n",
            "ValidationLoss: 0.1739, acc: 94.9800\n",
            "Epoch: 7\n",
            "TrainingLoss: 0.1655, acc: 95.2850\n",
            "ValidationLoss: 0.1800, acc: 95.1100\n",
            "Epoch: 8\n",
            "TrainingLoss: 0.1596, acc: 95.4633\n",
            "ValidationLoss: 0.1401, acc: 96.1700\n",
            "Epoch: 9\n",
            "TrainingLoss: 0.1571, acc: 95.6367\n",
            "ValidationLoss: 0.1581, acc: 95.4700\n",
            "Epoch: 10\n",
            "TrainingLoss: 0.1493, acc: 95.8167\n",
            "ValidationLoss: 0.1827, acc: 95.3300\n",
            "Epoch: 11\n",
            "TrainingLoss: 0.1547, acc: 95.7833\n",
            "ValidationLoss: 0.1759, acc: 95.4700\n",
            "Epoch: 12\n",
            "TrainingLoss: 0.1493, acc: 96.0367\n",
            "ValidationLoss: 0.1790, acc: 95.1800\n",
            "Epoch: 13\n",
            "TrainingLoss: 0.1519, acc: 95.8917\n",
            "ValidationLoss: 0.2030, acc: 94.6900\n",
            "Epoch: 14\n",
            "TrainingLoss: 0.1445, acc: 96.0950\n",
            "ValidationLoss: 0.1746, acc: 95.5100\n",
            "Epoch: 15\n",
            "TrainingLoss: 0.1428, acc: 96.1333\n",
            "ValidationLoss: 0.1656, acc: 95.7500\n"
          ],
          "name": "stdout"
        }
      ]
    },
    {
      "cell_type": "code",
      "metadata": {
        "id": "lL4_0q3lwx80",
        "colab_type": "code",
        "outputId": "dd6e6344-ee7c-48f0-b6c2-b04d5a871444",
        "colab": {
          "base_uri": "https://localhost:8080/",
          "height": 286
        }
      },
      "source": [
        "plt.plot(running_loss_history, label='training loss')\n",
        "plt.plot(val_running_loss_history, label='validation loss')\n",
        "plt.legend()"
      ],
      "execution_count": 9,
      "outputs": [
        {
          "output_type": "execute_result",
          "data": {
            "text/plain": [
              "<matplotlib.legend.Legend at 0x7efed48e4710>"
            ]
          },
          "metadata": {
            "tags": []
          },
          "execution_count": 9
        },
        {
          "output_type": "display_data",
          "data": {
            "image/png": "[encoded data removed]",
            "text/plain": [
              "<Figure size 432x288 with 1 Axes>"
            ]
          },
          "metadata": {
            "tags": []
          }
        }
      ]
    },
    {
      "cell_type": "code",
      "metadata": {
        "id": "t1d_VAe7EV6K",
        "colab_type": "code",
        "colab": {
          "base_uri": "https://localhost:8080/",
          "height": 286
        },
        "outputId": "bea01700-295a-4a14-a1f9-7cda4b011df6"
      },
      "source": [
        "import PIL\n",
        "from PIL import Image, ImageOps\n",
        "import requests\n",
        "\n",
        "url = 'https://images.homedepot-static.com/productImages/007164ea-d47e-4f66-8d8c-fd9f621984a2/svn/architectural-mailboxes-house-letters-numbers-3585b-5-64_1000.jpg'\n",
        "response = requests.get(url, stream=True)\n",
        "img = Image.open(response.raw)\n",
        "plt.imshow(img)"
      ],
      "execution_count": 10,
      "outputs": [
        {
          "output_type": "execute_result",
          "data": {
            "text/plain": [
              "<matplotlib.image.AxesImage at 0x7efed478a780>"
            ]
          },
          "metadata": {
            "tags": []
          },
          "execution_count": 10
        },
        {
          "output_type": "display_data",
          "data": {
            "image/png": "[encoded data removed]",
            "text/plain": [
              "<Figure size 432x288 with 1 Axes>"
            ]
          },
          "metadata": {
            "tags": []
          }
        }
      ]
    },
    {
      "cell_type": "code",
      "metadata": {
        "id": "hAXFvB74M4nn",
        "colab_type": "code",
        "colab": {
          "base_uri": "https://localhost:8080/",
          "height": 303
        },
        "outputId": "3e43cc69-7ac2-45d3-c3a8-94409f19e86a"
      },
      "source": [
        "# need to invert image to black bg and white fg\n",
        "img = PIL.ImageOps.invert(img)\n",
        "\n",
        "#convert RGB to have only 1 color channel\n",
        "img = img.convert('1')\n",
        "img = transform(img)\n",
        "plt.imshow(im_convert(img))"
      ],
      "execution_count": 11,
      "outputs": [
        {
          "output_type": "stream",
          "text": [
            "(28, 28, 1)\n"
          ],
          "name": "stdout"
        },
        {
          "output_type": "execute_result",
          "data": {
            "text/plain": [
              "<matplotlib.image.AxesImage at 0x7efed4761b70>"
            ]
          },
          "metadata": {
            "tags": []
          },
          "execution_count": 11
        },
        {
          "output_type": "display_data",
          "data": {
            "image/png": "[encoded data removed]",
            "text/plain": [
              "<Figure size 432x288 with 1 Axes>"
            ]
          },
          "metadata": {
            "tags": []
          }
        }
      ]
    },
    {
      "cell_type": "code",
      "metadata": {
        "id": "ZTSvJlBIOQDE",
        "colab_type": "code",
        "colab": {
          "base_uri": "https://localhost:8080/",
          "height": 34
        },
        "outputId": "899386cc-229f-4f4b-b80f-03efa7fb2966"
      },
      "source": [
        "img = img.view(img.shape[0], -1)\n",
        "output = model(img)\n",
        "_, pred = torch.max(output, 1)\n",
        "print(pred.item())"
      ],
      "execution_count": 12,
      "outputs": [
        {
          "output_type": "stream",
          "text": [
            "3\n"
          ],
          "name": "stdout"
        }
      ]
    },
    {
      "cell_type": "code",
      "metadata": {
        "id": "wg4QXpp-RCqJ",
        "colab_type": "code",
        "colab": {
          "base_uri": "https://localhost:8080/",
          "height": 628
        },
        "outputId": "fae187db-56ae-4e5e-989e-aa7b92de89e1"
      },
      "source": [
        "dataiter = iter(validation_loader)\n",
        "images, labels = dataiter.next()\n",
        "images_ = images.view(images.shape[0], -1)\n",
        "output = model(images_)\n",
        "_, preds = torch.max(output, 1)\n",
        "     \n",
        "fig = plt.figure(figsize=(25, 4))\n",
        "     \n",
        "for idx in np.arange(20):\n",
        "  ax = fig.add_subplot(2, 10, idx+1, xticks=[], yticks=[])\n",
        "  plt.imshow(im_convert(images[idx]))\n",
        "  ax.set_title(\"{} ({})\".format(str(preds[idx].item()), str(labels[idx].item())), color=(\"green\" if preds[idx]==labels[idx] else \"red\"))"
      ],
      "execution_count": 13,
      "outputs": [
        {
          "output_type": "stream",
          "text": [
            "(28, 28, 1)\n",
            "(28, 28, 1)\n",
            "(28, 28, 1)\n",
            "(28, 28, 1)\n",
            "(28, 28, 1)\n",
            "(28, 28, 1)\n",
            "(28, 28, 1)\n",
            "(28, 28, 1)\n",
            "(28, 28, 1)\n",
            "(28, 28, 1)\n",
            "(28, 28, 1)\n",
            "(28, 28, 1)\n",
            "(28, 28, 1)\n",
            "(28, 28, 1)\n",
            "(28, 28, 1)\n",
            "(28, 28, 1)\n",
            "(28, 28, 1)\n",
            "(28, 28, 1)\n",
            "(28, 28, 1)\n",
            "(28, 28, 1)\n"
          ],
          "name": "stdout"
        },
        {
          "output_type": "display_data",
          "data": {
            "image/png": "[encoded data removed]",
            "text/plain": [
              "<Figure size 1800x288 with 20 Axes>"
            ]
          },
          "metadata": {
            "tags": []
          }
        }
      ]
    },
    {
      "cell_type": "code",
      "metadata": {
        "id": "ilxiwnETTa6b",
        "colab_type": "code",
        "colab": {}
      },
      "source": [
        ""
      ],
      "execution_count": 0,
      "outputs": []
    }
  ]
}