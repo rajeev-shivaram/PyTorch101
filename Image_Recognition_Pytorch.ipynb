{
  "nbformat": 4,
  "nbformat_minor": 0,
  "metadata": {
    "colab": {
      "name": "Image_Recognition_Pytorch.ipynb",
      "version": "0.3.2",
      "provenance": []
    },
    "language_info": {
      "codemirror_mode": {
        "name": "ipython",
        "version": 3
      },
      "file_extension": ".py",
      "mimetype": "text/x-python",
      "name": "python",
      "nbconvert_exporter": "python",
      "pygments_lexer": "ipython3",
      "version": "3.7.3"
    },
    "kernelspec": {
      "name": "python3",
      "display_name": "Python 3"
    },
    "accelerator": "TPU"
  },
  "cells": [
    {
      "cell_type": "code",
      "metadata": {
        "id": "u7_OsptAdK4f",
        "colab_type": "code",
        "colab": {}
      },
      "source": [
        "import numpy as np\n",
        "import matplotlib.pyplot as plt\n",
        "\n",
        "import torch\n",
        "import torch.nn as nn\n",
        "import torch.nn.functional as F\n",
        "from torchvision import datasets, transforms"
      ],
      "execution_count": 0,
      "outputs": []
    },
    {
      "cell_type": "markdown",
      "metadata": {
        "id": "PP-VTSi0iGLN",
        "colab_type": "text"
      },
      "source": [
        "1. training loader : is used to specify training batches, for every epoch, we passed through the dataset and 600000 is too big so we divide into batches\n",
        "  with batch_size=100, it'll take 600 epochs to complete one iteration\n",
        "  we set shuffle True as we dont want it to get stuck at a local minima, also batch_size depends on the GPU currently in use and also the size of dataset."
      ]
    },
    {
      "cell_type": "code",
      "metadata": {
        "id": "IDzyEwX2dK4m",
        "colab_type": "code",
        "outputId": "fdf34644-e86e-4c1c-97ba-b7a624444b7d",
        "colab": {
          "base_uri": "https://localhost:8080/",
          "height": 255
        }
      },
      "source": [
        "transform = transforms.Compose([transforms.ToTensor(),\n",
        "                               transforms.Normalize((0.5,), (0.5,))])\n",
        "training_dataset = datasets.MNIST(root=\"./data\", train=True, download=True, transform=transform)\n",
        "\n",
        "# 1\n",
        "training_loader = torch.utils.data.DataLoader(dataset=training_dataset, batch_size=100, shuffle=True)"
      ],
      "execution_count": 2,
      "outputs": [
        {
          "output_type": "stream",
          "text": [
            "\r0it [00:00, ?it/s]"
          ],
          "name": "stderr"
        },
        {
          "output_type": "stream",
          "text": [
            "Downloading http://yann.lecun.com/exdb/mnist/train-images-idx3-ubyte.gz to ./data/MNIST/raw/train-images-idx3-ubyte.gz\n"
          ],
          "name": "stdout"
        },
        {
          "output_type": "stream",
          "text": [
            "9920512it [00:00, 18033825.16it/s]                            \n"
          ],
          "name": "stderr"
        },
        {
          "output_type": "stream",
          "text": [
            "Extracting ./data/MNIST/raw/train-images-idx3-ubyte.gz\n"
          ],
          "name": "stdout"
        },
        {
          "output_type": "stream",
          "text": [
            "32768it [00:00, 293166.83it/s]                           \n",
            "0it [00:00, ?it/s]"
          ],
          "name": "stderr"
        },
        {
          "output_type": "stream",
          "text": [
            "Downloading http://yann.lecun.com/exdb/mnist/train-labels-idx1-ubyte.gz to ./data/MNIST/raw/train-labels-idx1-ubyte.gz\n",
            "Extracting ./data/MNIST/raw/train-labels-idx1-ubyte.gz\n",
            "Downloading http://yann.lecun.com/exdb/mnist/t10k-images-idx3-ubyte.gz to ./data/MNIST/raw/t10k-images-idx3-ubyte.gz\n"
          ],
          "name": "stdout"
        },
        {
          "output_type": "stream",
          "text": [
            "1654784it [00:00, 5185050.52it/s]                           \n",
            "8192it [00:00, 128678.04it/s]\n"
          ],
          "name": "stderr"
        },
        {
          "output_type": "stream",
          "text": [
            "Extracting ./data/MNIST/raw/t10k-images-idx3-ubyte.gz\n",
            "Downloading http://yann.lecun.com/exdb/mnist/t10k-labels-idx1-ubyte.gz to ./data/MNIST/raw/t10k-labels-idx1-ubyte.gz\n",
            "Extracting ./data/MNIST/raw/t10k-labels-idx1-ubyte.gz\n",
            "Processing...\n",
            "Done!\n"
          ],
          "name": "stdout"
        }
      ]
    },
    {
      "cell_type": "markdown",
      "metadata": {
        "id": "rJ42bvd7lOaJ",
        "colab_type": "text"
      },
      "source": [
        "1 before converting to numpy array, we will clone it to create a new copy of tensor and use detach\n",
        "\n",
        "\n",
        "2 now we have a numpy array which represents 1st as color channel and 2nd & 3rd as height and width (1, 28, 28)\n",
        "  but to plot our image we need to have it in (h, w, colorChannel)\n",
        "  here, we swap axis 0, for axis 1, axis 1 for 2, and axis 0 in end.\n",
        "  \n",
        " 3 since we had normalized the image we de-normalize the image;normalizing consists of subtracting the mean and dividing by std deviation so denorm has..\n",
        " \n",
        " 4 previously normalizing converted our image from range 0->1 to -1->1 and set the image to 0->1 we can set, applying a clip func for a min value of 0 to max val of 1."
      ]
    },
    {
      "cell_type": "code",
      "metadata": {
        "id": "QBfknfxLdK4v",
        "colab_type": "code",
        "colab": {}
      },
      "source": [
        "def im_convert(tensor):\n",
        "  \"\"\"to plot the dataset, we make use of an numpy array\"\"\"\n",
        "  # 1 \n",
        "  image = tensor.clone().detach().numpy()\n",
        "  \n",
        "  # 2\n",
        "  image = image.transpose(1, 2, 0)\n",
        "  print(image.shape)\n",
        "  # 3\n",
        "  image = image * np.array((0.5, 0.5, 0.5)) + np.array((0.5, 0.5, 0.5))\n",
        "  \n",
        "  # 4\n",
        "  image = image.clip(0, 1)\n",
        "  \n",
        "  return image\n",
        "  "
      ],
      "execution_count": 0,
      "outputs": []
    },
    {
      "cell_type": "markdown",
      "metadata": {
        "id": "7oltac05jG71",
        "colab_type": "text"
      },
      "source": [
        "Wrap training_loader in an iter so we can iterate through it\n",
        "and next element is accessed by calling next on our data iter\n",
        "\n",
        "each iter can be split into images and labels\n",
        "\n",
        "---\n",
        "\n"
      ]
    },
    {
      "cell_type": "code",
      "metadata": {
        "id": "1xVkay-zjAae",
        "colab_type": "code",
        "outputId": "11973b94-8b46-4a5d-acfd-0b594c439cff",
        "colab": {
          "base_uri": "https://localhost:8080/",
          "height": 628
        }
      },
      "source": [
        "# 1\n",
        "dataiter = iter(training_loader)\n",
        "\n",
        "# 2\n",
        "images, labels = dataiter.next()\n",
        "\n",
        "fig = plt.figure(figsize=(25, 4))  # width and height of images\n",
        "\n",
        "for idx in np.arange(20):\n",
        "  ax = fig.add_subplot(2, 10, idx+1, xticks=[], yticks=[]) # no of rows and 10 columns per row (10 images total), index and must be between 1 and 20\n",
        "  plt.imshow(im_convert(images[idx]))\n",
        "  ax.set_title(labels[idx].item())"
      ],
      "execution_count": 4,
      "outputs": [
        {
          "output_type": "stream",
          "text": [
            "(28, 28, 1)\n",
            "(28, 28, 1)\n",
            "(28, 28, 1)\n",
            "(28, 28, 1)\n",
            "(28, 28, 1)\n",
            "(28, 28, 1)\n",
            "(28, 28, 1)\n",
            "(28, 28, 1)\n",
            "(28, 28, 1)\n",
            "(28, 28, 1)\n",
            "(28, 28, 1)\n",
            "(28, 28, 1)\n",
            "(28, 28, 1)\n",
            "(28, 28, 1)\n",
            "(28, 28, 1)\n",
            "(28, 28, 1)\n",
            "(28, 28, 1)\n",
            "(28, 28, 1)\n",
            "(28, 28, 1)\n",
            "(28, 28, 1)\n"
          ],
          "name": "stdout"
        },
        {
          "output_type": "display_data",
          "data": {
            "image/png": "[encoded data removed]",
            "text/plain": [
              "<Figure size 1800x288 with 20 Axes>"
            ]
          },
          "metadata": {
            "tags": []
          }
        }
      ]
    },
    {
      "cell_type": "markdown",
      "metadata": {
        "id": "k4_7Rvd2qLlr",
        "colab_type": "text"
      },
      "source": [
        "1. Te activation function is not applied to the last layer. what we get is the raw output of the network often called the score whicg=h is significatly used in calculating the cross-entropy loss of muticlass dataset namely nn.CrossEntropyLoss -> used for multiclass classification; combination of log_softmax + NegitiveLogLikelyhoodLoss/NLLLoss()"
      ]
    },
    {
      "cell_type": "code",
      "metadata": {
        "id": "kR40keRUkpxK",
        "colab_type": "code",
        "colab": {}
      },
      "source": [
        "class Classifier(nn.Module):\n",
        "  \n",
        "  def __init__(self, D_in, H1, H2, D_out):\n",
        "    \"\"\"Define the Layers of the model\"\"\"\n",
        "    super(Classifier, self).__init__()\n",
        "    self.linear1 = nn.Linear(D_in, H1)\n",
        "    self.linear2 = nn.Linear(H1, H2)\n",
        "    self.linear3 = nn.Linear(H2, D_out)\n",
        "   \n",
        "  def forward(x):\n",
        "    \"\"\"Define the prediction function of model\"\"\"\n",
        "    x = F.relu(self.linear1(x))\n",
        "    x = F.relu(self.linear2(x))\n",
        "    x = self.linear3(x)  # 1"
      ],
      "execution_count": 0,
      "outputs": []
    }
  ]
}