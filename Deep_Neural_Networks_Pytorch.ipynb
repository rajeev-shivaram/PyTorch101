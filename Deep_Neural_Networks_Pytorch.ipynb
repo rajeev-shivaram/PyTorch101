{
  "nbformat": 4,
  "nbformat_minor": 0,
  "metadata": {
    "colab": {
      "name": "Deep Neural Networks - Pytorch.ipynb",
      "version": "0.3.2",
      "provenance": [],
      "include_colab_link": true
    },
    "language_info": {
      "codemirror_mode": {
        "name": "ipython",
        "version": 3
      },
      "file_extension": ".py",
      "mimetype": "text/x-python",
      "name": "python",
      "nbconvert_exporter": "python",
      "pygments_lexer": "ipython3",
      "version": "3.7.3"
    },
    "kernelspec": {
      "display_name": "Python 3",
      "language": "python",
      "name": "python3"
    }
  },
  "cells": [
    {
      "cell_type": "markdown",
      "metadata": {
        "id": "view-in-github",
        "colab_type": "text"
      },
      "source": [
        "<a href=\"https://colab.research.google.com/github/rajeev-shivaram/PyTorch101/blob/master/Deep_Neural_Networks_Pytorch.ipynb\" target=\"_parent\"><img src=\"https://colab.research.google.com/assets/colab-badge.svg\" alt=\"Open In Colab\"/></a>"
      ]
    },
    {
      "cell_type": "markdown",
      "metadata": {
        "id": "cY6z4m51KQmH",
        "colab_type": "text"
      },
      "source": [
        "When Linear models are unable to represent a set of data, a non-linear model is used.\n",
        "\n",
        "This is done by combining two or more perceptrons. the two perceptrons models can be of linear nature and are superimposed to form the  third models.\n",
        "\n",
        "Subsequent to the training of our neural network the data samples through some decision boundry, the process of then receiving an input to produce some kind of output to make some kind of predction is known as feed forward. \n",
        "\n",
        "Feed forward NN are the core of many NN such as Convolution NN. Also, FFNN do not have any feedback loops or connections in network, simply an input layer, (multiple) hidden layer and an output layer.\n",
        "\n",
        "The input layer provides the data and output makes predictions based on series of function activations in hidden layer.\n",
        "\n",
        "The steps followed are:\n",
        "1. Feedforward to predict all outputs.\n",
        "2. Determine total Error with cross entropy.\n",
        "3. Backpropogation (to update all the weights of models throughout the NN).\n",
        "4. Repeat at some learning rate.\n",
        "\n",
        "With FF, we can predict the outputs for all of our training data.\n",
        "With outputs of all the data points predicted by the model to the actual outputs of our labelled data.\n",
        "The more misclassifications there are, higher the error which is calculated with the cross-entropy formula\n",
        "\n",
        "-($\\sum_{0}^{\\infty} y * ln(p) - (1-y) * ln(1-p)$)\n",
        "                        \n",
        "the average of the ln of the predictions of the points being in class 1 + the line of the probabilities of the points being clause zero and then apply some form of gradient descent .\n",
        "\n",
        "By taking the negitive of gradient of error function minimizes error the most and backpropogate this until a suitable point is reached.\n",
        "(i) The gradient is the derivative of error function with respect to all weights in our neural network."
      ]
    },
    {
      "cell_type": "code",
      "metadata": {
        "id": "CKxik5B8KQmN",
        "colab_type": "code",
        "colab": {}
      },
      "source": [
        "import torch\n",
        "import torch.nn as nn\n",
        "import numpy as np\n",
        "from sklearn import datasets\n",
        "import matplotlib.pyplot as plt\n",
        "from tqdm import tqdm"
      ],
      "execution_count": 0,
      "outputs": []
    },
    {
      "cell_type": "code",
      "metadata": {
        "id": "Pu3FWgBqKQmb",
        "colab_type": "code",
        "colab": {}
      },
      "source": [
        "n_pts = 500\n",
        "X, y = datasets.make_circles(n_samples=n_pts, random_state=123, noise=0.1, factor=0.2)\n",
        "# noise refers to the gausian noise added to the function, a larger noise value will cause them to deviate more\n",
        "# factor refers to the size of inner circle to the outter circle, here 0.2 means inner circle will be 0.2 times diameter the outter circle"
      ],
      "execution_count": 0,
      "outputs": []
    },
    {
      "cell_type": "code",
      "metadata": {
        "id": "n98HKfWlKQmm",
        "colab_type": "code",
        "colab": {},
        "outputId": "41a27e92-5e07-4326-cae5-98bdde62bc0c"
      },
      "source": [
        "# converting them from numpy arrays to tensors\n",
        "x_data = torch.FloatTensor(X)\n",
        "y_data = torch.FloatTensor(y.reshape(500, 1))\n",
        "\n",
        "print(x_data.type())\n",
        "print(y_data.type())"
      ],
      "execution_count": 0,
      "outputs": [
        {
          "output_type": "stream",
          "text": [
            "torch.FloatTensor\n",
            "torch.FloatTensor\n"
          ],
          "name": "stdout"
        }
      ]
    },
    {
      "cell_type": "code",
      "metadata": {
        "id": "LFeAvvoaKQnF",
        "colab_type": "code",
        "colab": {},
        "outputId": "74805aaa-c13b-4d53-fe6f-118af0832353"
      },
      "source": [
        "def scatter_plot():\n",
        "    plt.scatter(X[y==0, 0], X[y==0, 1]) # X values where y==0 in 0 column, X vals where y==0 in 1 column\n",
        "    plt.scatter(X[y==1, 0], X[y==1, 1]) # X values where y==1 in 0 column, X vals where y==1 in 1 column\n",
        "scatter_plot()"
      ],
      "execution_count": 0,
      "outputs": [
        {
          "output_type": "display_data",
          "data": {
            "image/png": "[encoded data removed]",
            "text/plain": [
              "<Figure size 432x288 with 1 Axes>"
            ]
          },
          "metadata": {
            "tags": [],
            "needs_background": "light"
          }
        }
      ]
    },
    {
      "cell_type": "code",
      "metadata": {
        "id": "1sB222v0KQnS",
        "colab_type": "code",
        "colab": {}
      },
      "source": [
        "# Model\n",
        "\n",
        "class Model(nn.Module):\n",
        "    def __init__(self, input_size, H1, output_size):\n",
        "        super().__init__()\n",
        "        self.linear = nn.Linear(input_size, H1)\n",
        "        self.linear2 = nn.Linear(H1, output_size)\n",
        "    def forward(self, x):\n",
        "        x = torch.sigmoid(self.linear(x))\n",
        "        x = torch.sigmoid(self.linear2(x))\n",
        "        return x\n",
        "    def predict(self, x):\n",
        "        pred = model.forward(x)\n",
        "        if pred >= 0.5:\n",
        "          return 1\n",
        "        else:\n",
        "          return 0"
      ],
      "execution_count": 0,
      "outputs": []
    },
    {
      "cell_type": "code",
      "metadata": {
        "id": "jQbHyfcwKQna",
        "colab_type": "code",
        "colab": {},
        "outputId": "9dc8d0d5-fdf6-48ad-9215-eb49047619b1"
      },
      "source": [
        "torch.manual_seed(2)\n",
        "model = Model(2, 4, 1) # imagine 2 nodes as input, 4 hidden_layers and 1 output\n",
        "print(list(model.parameters()))"
      ],
      "execution_count": 0,
      "outputs": [
        {
          "output_type": "stream",
          "text": [
            "[Parameter containing:\n",
            "tensor([[ 0.1622, -0.1683],\n",
            "        [ 0.1939, -0.0361],\n",
            "        [ 0.3021,  0.1683],\n",
            "        [-0.0813, -0.5717]], requires_grad=True), Parameter containing:\n",
            "tensor([ 0.1614, -0.6260,  0.0929,  0.0470], requires_grad=True), Parameter containing:\n",
            "tensor([[-0.1099,  0.4088,  0.0334,  0.2073]], requires_grad=True), Parameter containing:\n",
            "tensor([0.2116], requires_grad=True)]\n"
          ],
          "name": "stdout"
        }
      ]
    },
    {
      "cell_type": "code",
      "metadata": {
        "id": "KGIlPdU1KQnt",
        "colab_type": "code",
        "colab": {}
      },
      "source": [
        "criterion = nn.BCELoss()\n",
        "optimizer = torch.optim.Adam(model.parameters(), lr=0.1)"
      ],
      "execution_count": 0,
      "outputs": []
    },
    {
      "cell_type": "markdown",
      "metadata": {
        "id": "KxvrjGR7KQn3",
        "colab_type": "text"
      },
      "source": [
        "Adam Optim is one of many optimization algos and what differenciates it the most is its adaptive learning methodology and its effeciency.\n",
        "The Adam optim is a combination of two other extensions of stochastic gradient descent viz Adagrad & RMSprop.\n",
        "The learning rates are manually set in gradient descent and if its too low, the model takes time to reach convergence and if its too high, reaches convergence very fast ie hinders it and they maintain a single learning rate for all backprops throught training.\n",
        "Adam optim computes adaptive learning rates for each parameters and has been proven while dealing with large models and datasets"
      ]
    },
    {
      "cell_type": "code",
      "metadata": {
        "id": "5vLjl3S2KQn6",
        "colab_type": "code",
        "colab": {},
        "outputId": "db3100a7-a167-44eb-ccc9-c66d04b35a81"
      },
      "source": [
        "epochs = 1000\n",
        "losses = []\n",
        "for i in tqdm(range(epochs), ascii=True):\n",
        "    y_pred = model.forward(x_data)\n",
        "    loss = criterion(y_pred, y_data)\n",
        "    losses.append(loss.item())\n",
        "    optimizer.zero_grad()\n",
        "    loss.backward()\n",
        "    optimizer.step()\n",
        "print('Epoch spent:', epochs, 'Loss:', losses[-1])    "
      ],
      "execution_count": 0,
      "outputs": [
        {
          "output_type": "stream",
          "text": [
            "100%|###############################################################################| 1000/1000 [00:01<00:00, 902.75it/s]\n"
          ],
          "name": "stderr"
        },
        {
          "output_type": "stream",
          "text": [
            "Epoch spent: 1000 Loss: 0.0016064508818089962\n"
          ],
          "name": "stdout"
        }
      ]
    },
    {
      "cell_type": "code",
      "metadata": {
        "id": "9KM_ZZ5ZKQoK",
        "colab_type": "code",
        "colab": {},
        "outputId": "121c6547-bdb7-44ac-e915-4fc445205324"
      },
      "source": [
        "plt.xlabel('Epochs')\n",
        "plt.ylabel('Loss')\n",
        "plt.plot(range(epochs), losses)\n",
        "plt.title('Learning Rate = 0.01')"
      ],
      "execution_count": 0,
      "outputs": [
        {
          "output_type": "execute_result",
          "data": {
            "text/plain": [
              "Text(0.5, 1.0, 'Learning Rate = 0.01')"
            ]
          },
          "metadata": {
            "tags": []
          },
          "execution_count": 9
        },
        {
          "output_type": "display_data",
          "data": {
            "image/png": "[encoded data removed]",
            "text/plain": [
              "<Figure size 432x288 with 1 Axes>"
            ]
          },
          "metadata": {
            "tags": [],
            "needs_background": "light"
          }
        }
      ]
    },
    {
      "cell_type": "code",
      "metadata": {
        "id": "YGU9Y-TAKQoX",
        "colab_type": "code",
        "colab": {},
        "outputId": "66c63e67-8306-4a26-cba3-887f3f7825cd"
      },
      "source": [
        "plt.xlabel('Epochs')\n",
        "plt.ylabel('Loss')\n",
        "plt.plot(range(epochs), losses)\n",
        "plt.title('Learning Rate = 0.1')"
      ],
      "execution_count": 0,
      "outputs": [
        {
          "output_type": "execute_result",
          "data": {
            "text/plain": [
              "Text(0.5, 1.0, 'Learning Rate = 0.1')"
            ]
          },
          "metadata": {
            "tags": []
          },
          "execution_count": 47
        },
        {
          "output_type": "display_data",
          "data": {
            "image/png": "[encoded data removed]",
            "text/plain": [
              "<Figure size 432x288 with 1 Axes>"
            ]
          },
          "metadata": {
            "tags": [],
            "needs_background": "light"
          }
        }
      ]
    },
    {
      "cell_type": "code",
      "metadata": {
        "id": "7aMlkZe-KQol",
        "colab_type": "code",
        "colab": {},
        "outputId": "b246ea75-2714-4757-9de0-f07075846ce3"
      },
      "source": [
        "def plot_decision_boundry(X, y):\n",
        "    \"\"\"\n",
        "    Return a contour plot of decision boundry\n",
        "    \"\"\"\n",
        "    # define the span of grid \n",
        "    x_span = np.linspace(min(X[:, 0]), max(X[:, 0]))\n",
        "    y_span = np.linspace(min(X[:, 1]), max(X[:, 1]))\n",
        "    \n",
        "    \n",
        "    xx, yy = np.meshgrid(x_span, y_span) # xx & yy holds a square two dim array\n",
        "    # meshgrid takes a single vector cantaining 50 elements and returns a two dimensional 50x50 matrix\n",
        "    \n",
        "    # flatten the xx & yy arrays into one dimension\n",
        "    grid = torch.FloatTensor(np.c_[xx.ravel(), yy.ravel()]) \n",
        "    pred_func = model.forward(grid)\n",
        "    z = pred_func.view(xx.shape).detach().numpy()\n",
        "    # use detach method to exclude any subgraphs grom gradient computation that would associated with values from pred_func\n",
        "    \n",
        "    plt.contourf(xx, yy, z)\n",
        "\n",
        "plot_decision_boundry(X, y)\n",
        "scatter_plot()"
      ],
      "execution_count": 0,
      "outputs": [
        {
          "output_type": "display_data",
          "data": {
            "image/png": "[encoded data removed]",
            "text/plain": [
              "<Figure size 432x288 with 1 Axes>"
            ]
          },
          "metadata": {
            "tags": [],
            "needs_background": "light"
          }
        }
      ]
    },
    {
      "cell_type": "code",
      "metadata": {
        "id": "RZU1FcwfKQow",
        "colab_type": "code",
        "colab": {},
        "outputId": "b1909bbd-6b85-4243-868f-0cc489786f28"
      },
      "source": [
        "# Explaining meshgrid\n",
        "\n",
        "def explaining_meshgrid(X, y):\n",
        "    \"\"\"\n",
        "    Explain how meshgrid works with an example\n",
        "    \"\"\"\n",
        "    x_span = np.linspace(min(X[:, 0]), max(X[:, 0]), 3)\n",
        "    y_span = np.linspace(min(X[:, 1]), max(X[:, 1]), 3)\n",
        "        \n",
        "    xx, yy = np.meshgrid(x_span, y_span)\n",
        "    print('\\n ***MeshGrid***')\n",
        "    print(xx, '\\n')\n",
        "    print(yy)\n",
        "    \n",
        "    print('\\n ***Ravel***')\n",
        "    print(xx.ravel(),'\\n', yy.ravel())\n",
        "\n",
        "explaining_meshgrid(X, y)\n"
      ],
      "execution_count": 0,
      "outputs": [
        {
          "output_type": "stream",
          "text": [
            "\n",
            " ***MeshGrid***\n",
            "[[-1.13339265  0.04095722  1.21530709]\n",
            " [-1.13339265  0.04095722  1.21530709]\n",
            " [-1.13339265  0.04095722  1.21530709]] \n",
            "\n",
            "[[-1.22178655 -1.22178655 -1.22178655]\n",
            " [ 0.05350155  0.05350155  0.05350155]\n",
            " [ 1.32878965  1.32878965  1.32878965]]\n",
            "\n",
            " ***Ravel***\n",
            "[-1.13339265  0.04095722  1.21530709 -1.13339265  0.04095722  1.21530709\n",
            " -1.13339265  0.04095722  1.21530709] \n",
            " [-1.22178655 -1.22178655 -1.22178655  0.05350155  0.05350155  0.05350155\n",
            "  1.32878965  1.32878965  1.32878965]\n"
          ],
          "name": "stdout"
        }
      ]
    },
    {
      "cell_type": "code",
      "metadata": {
        "id": "e8W-ecSfKQo4",
        "colab_type": "code",
        "colab": {},
        "outputId": "69a88d1e-ee88-4ea8-8470-0eee4811e920"
      },
      "source": [
        "# Test with a random value\n",
        "x, y = 0.025, 0.025\n",
        "point = torch.Tensor([x, y])\n",
        "prediction = model.predict(point)\n",
        "plt.plot([x], [y], marker='o', markersize=10, color='red')\n",
        "print(\"Prediction is\", prediction)\n",
        "plot_decision_boundry(X, y)"
      ],
      "execution_count": 0,
      "outputs": [
        {
          "output_type": "stream",
          "text": [
            "Prediction is 1\n"
          ],
          "name": "stdout"
        },
        {
          "output_type": "display_data",
          "data": {
            "image/png": "[encoded data removed]",
            "text/plain": [
              "<Figure size 432x288 with 1 Axes>"
            ]
          },
          "metadata": {
            "tags": [],
            "needs_background": "light"
          }
        }
      ]
    },
    {
      "cell_type": "code",
      "metadata": {
        "id": "oum8aMSKKQpC",
        "colab_type": "code",
        "colab": {}
      },
      "source": [
        ""
      ],
      "execution_count": 0,
      "outputs": []
    }
  ]
}