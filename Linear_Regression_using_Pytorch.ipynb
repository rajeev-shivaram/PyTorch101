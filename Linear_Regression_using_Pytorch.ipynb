{
  "nbformat": 4,
  "nbformat_minor": 0,
  "metadata": {
    "colab": {
      "name": "Linear Regression using Pytorch.ipynb",
      "version": "0.3.2",
      "provenance": [],
      "collapsed_sections": []
    },
    "kernelspec": {
      "name": "python3",
      "display_name": "Python 3"
    }
  },
  "cells": [
    {
      "cell_type": "markdown",
      "metadata": {
        "id": "eTadht-ZCsn3",
        "colab_type": "text"
      },
      "source": [
        "### 1. Declare a linear model and make basic predictions\n",
        "### 2. Generate a dataset\n",
        "### 3. Basic Linear model class\n",
        "### 4. Custom Linear model\n",
        "### 5. Use the dataset from Step2 into custom linear model from Step4 to do a first fit"
      ]
    },
    {
      "cell_type": "code",
      "metadata": {
        "id": "hhlMSTeqbJfC",
        "colab_type": "code",
        "colab": {}
      },
      "source": [
        "import torch"
      ],
      "execution_count": 0,
      "outputs": []
    },
    {
      "cell_type": "markdown",
      "metadata": {
        "id": "-gULedNhL9hB",
        "colab_type": "text"
      },
      "source": [
        "### Declare a linear model and use it to make predictions."
      ]
    },
    {
      "cell_type": "code",
      "metadata": {
        "id": "IXEAGRh2KrAq",
        "colab_type": "code",
        "colab": {}
      },
      "source": [
        "# Equation of a straight line is \n",
        "m = torch.tensor(3.0, requires_grad=True)\n",
        "c = torch.tensor(1.0, requires_grad=True)\n",
        "\n",
        "# y = m*x + c"
      ],
      "execution_count": 0,
      "outputs": []
    },
    {
      "cell_type": "markdown",
      "metadata": {
        "id": "BL8k-rirL3CK",
        "colab_type": "text"
      },
      "source": [
        "where m is slope, x is weight, c is the bias and y is the y-intercept or the point on y-axis where the line passes through."
      ]
    },
    {
      "cell_type": "markdown",
      "metadata": {
        "id": "d17CQZ6qLtEq",
        "colab_type": "text"
      },
      "source": [
        "We first start with a line which will not fit our data well, \n",
        "then use these data points to train a linear model to have an optimal weight\n",
        "and bias values which provides us with optimal fit."
      ]
    },
    {
      "cell_type": "code",
      "metadata": {
        "id": "87c9IT6sLw_h",
        "colab_type": "code",
        "colab": {}
      },
      "source": [
        "# to predict the values of y using x, define a forward function\n",
        "\n",
        "def forward(x):\n",
        "  y = m*x + c\n",
        "  return y"
      ],
      "execution_count": 0,
      "outputs": []
    },
    {
      "cell_type": "code",
      "metadata": {
        "id": "qXSnvThANGEd",
        "colab_type": "code",
        "outputId": "f24fdbc0-40d8-42e1-eeea-a54458c44817",
        "colab": {
          "base_uri": "https://localhost:8080/",
          "height": 51
        }
      },
      "source": [
        "x = torch.tensor(2)\n",
        "forward(x)\n",
        "\n",
        "x = torch.tensor([[4], [7]]) \n",
        "# since forward function accept only one parm, wrap it in list\n",
        "forward(x)"
      ],
      "execution_count": 0,
      "outputs": [
        {
          "output_type": "execute_result",
          "data": {
            "text/plain": [
              "tensor([[13],\n",
              "        [22]], grad_fn=<AddBackward0>)"
            ]
          },
          "metadata": {
            "tags": []
          },
          "execution_count": 4
        }
      ]
    },
    {
      "cell_type": "markdown",
      "metadata": {
        "id": "WaL7gK5F_UE1",
        "colab_type": "text"
      },
      "source": [
        "### Create a dataset"
      ]
    },
    {
      "cell_type": "code",
      "metadata": {
        "id": "gbtqoxxI_YOS",
        "colab_type": "code",
        "colab": {}
      },
      "source": [
        "import torch\n",
        "import torch.nn as nn\n",
        "import matplotlib.pyplot as plt"
      ],
      "execution_count": 0,
      "outputs": []
    },
    {
      "cell_type": "code",
      "metadata": {
        "id": "BOldAv1Y_sbT",
        "colab_type": "code",
        "outputId": "5484d474-4407-44d8-b24d-314a53144924",
        "colab": {
          "base_uri": "https://localhost:8080/",
          "height": 286
        }
      },
      "source": [
        "# return a tensor filled with random numbers that are normally distributed around zero\n",
        "# also accepts a sequence of integers which then define the shape of tensor\n",
        "# torch.randn(rows, column)\n",
        "\n",
        "X = torch.randn(100, 1) * 10\n",
        "y = X # creates a perfect linear model\n",
        "plt.plot(X.numpy(), y.numpy(), 'o') # 'o' -> to show datapoint as circle"
      ],
      "execution_count": 0,
      "outputs": [
        {
          "output_type": "execute_result",
          "data": {
            "text/plain": [
              "[<matplotlib.lines.Line2D at 0x7f755b33be80>]"
            ]
          },
          "metadata": {
            "tags": []
          },
          "execution_count": 6
        },
        {
          "output_type": "display_data",
          "data": {
            "image/png": "[encoded data removed]",
            "text/plain": [
              "<Figure size 432x288 with 1 Axes>"
            ]
          },
          "metadata": {
            "tags": []
          }
        }
      ]
    },
    {
      "cell_type": "code",
      "metadata": {
        "id": "W4BSaRNqBUOl",
        "colab_type": "code",
        "outputId": "fa2adc75-6bf5-4d19-85f6-4592c703a286",
        "colab": {
          "base_uri": "https://localhost:8080/",
          "height": 300
        }
      },
      "source": [
        "# to introduce some noise we'll add displacement to y\n",
        "y = X + torch.randn(100, 1) * 3\n",
        "plt.plot(X.numpy(), y.numpy(), 'o')\n",
        "plt.xlabel('x')\n",
        "plt.ylabel('y')"
      ],
      "execution_count": 0,
      "outputs": [
        {
          "output_type": "execute_result",
          "data": {
            "text/plain": [
              "Text(0, 0.5, 'y')"
            ]
          },
          "metadata": {
            "tags": []
          },
          "execution_count": 7
        },
        {
          "output_type": "display_data",
          "data": {
            "image/png": "[encoded data removed]",
            "text/plain": [
              "<Figure size 432x288 with 1 Axes>"
            ]
          },
          "metadata": {
            "tags": []
          }
        }
      ]
    },
    {
      "cell_type": "markdown",
      "metadata": {
        "id": "-CHJJaxvOO0K",
        "colab_type": "text"
      },
      "source": [
        "### The Linear class"
      ]
    },
    {
      "cell_type": "code",
      "metadata": {
        "id": "OwjaK_gpOScj",
        "colab_type": "code",
        "colab": {}
      },
      "source": [
        "import torch\n",
        "from torch.nn import Linear"
      ],
      "execution_count": 0,
      "outputs": []
    },
    {
      "cell_type": "markdown",
      "metadata": {
        "id": "nTytJjD4mta2",
        "colab_type": "text"
      },
      "source": [
        "set the seed, the reason for setting seed is because when constructing our model, linear class will be given random\n",
        "we start with random value for weight and bias and then we train our model through gradient descent alog to find optimal parameters to fit our data"
      ]
    },
    {
      "cell_type": "code",
      "metadata": {
        "id": "MoYzLh5mOX_j",
        "colab_type": "code",
        "outputId": "77830d4c-5fce-4aa7-bd1d-a4f85494af73",
        "colab": {
          "base_uri": "https://localhost:8080/",
          "height": 68
        }
      },
      "source": [
        "\n",
        "torch.manual_seed(1)\n",
        "\n",
        "# for every prediction we make, for every output, there is one input\n",
        "model = Linear(in_features=1, out_features=1)\n",
        "\n",
        "print(model.bias, model.weight)\n",
        "# this results in our equation being y = model.weight*x + model.bias"
      ],
      "execution_count": 0,
      "outputs": [
        {
          "output_type": "stream",
          "text": [
            "Parameter containing:\n",
            "tensor([-0.4414], requires_grad=True) Parameter containing:\n",
            "tensor([[0.5153]], requires_grad=True)\n"
          ],
          "name": "stdout"
        }
      ]
    },
    {
      "cell_type": "code",
      "metadata": {
        "id": "KP0xNdZrSF9S",
        "colab_type": "code",
        "outputId": "2684315c-f1a5-4b69-c247-d9dfbf547434",
        "colab": {
          "base_uri": "https://localhost:8080/",
          "height": 51
        }
      },
      "source": [
        "# make a prediction using an input x\n",
        "\n",
        "x = torch.tensor([2.0])\n",
        "# also\n",
        "x = torch.tensor([[2.0], [3.3]])\n",
        "print(model(x))"
      ],
      "execution_count": 0,
      "outputs": [
        {
          "output_type": "stream",
          "text": [
            "tensor([[0.5891],\n",
            "        [1.2590]], grad_fn=<AddmmBackward>)\n"
          ],
          "name": "stdout"
        }
      ]
    },
    {
      "cell_type": "markdown",
      "metadata": {
        "id": "-dKlByyy0wAZ",
        "colab_type": "text"
      },
      "source": [
        "### Custom Model"
      ]
    },
    {
      "cell_type": "code",
      "metadata": {
        "id": "HW34hvs0k_gh",
        "colab_type": "code",
        "colab": {}
      },
      "source": [
        "import torch\n",
        "import torch.nn as nn"
      ],
      "execution_count": 0,
      "outputs": []
    },
    {
      "cell_type": "code",
      "metadata": {
        "id": "uDoRqrvJ0-U-",
        "colab_type": "code",
        "colab": {}
      },
      "source": [
        "class LR(nn.Module):\n",
        "  \"\"\"\n",
        "  'Module' acts as a base class for all modules.\n",
        "  Here, Linear regression will be a subclass of nn.Module\n",
        "    thereby inherting nn as parent class\n",
        "  \"\"\"\n",
        "  \n",
        "  def __init__(self, input_size, output_size):\n",
        "    '''\n",
        "    Custome model requires an input and output just like \n",
        "    the Linear class.\n",
        "    '''\n",
        "    \n",
        "    #this allows for more freedom in use of multiple inhertiance from parent classes\n",
        "    super().__init__()\n",
        "    \n",
        "    # *** Upto this mark is boiler plate code ****\n",
        "    \n",
        "    # reps the instance of class object we intend to init\n",
        "    self.linear = nn.Linear(input_size, output_size)\n",
        "    \n",
        "    # writing the forward method that makes predictions\n",
        "  def forward(self, x):\n",
        "    pred = self.linear(x)\n",
        "    return pred\n"
      ],
      "execution_count": 0,
      "outputs": []
    },
    {
      "cell_type": "code",
      "metadata": {
        "id": "oCP8gzNO3Yqh",
        "colab_type": "code",
        "colab": {}
      },
      "source": [
        "torch.manual_seed(1)\n",
        "\n",
        "# init a new instance of your custom model\n",
        "model = LR(1, 1)"
      ],
      "execution_count": 0,
      "outputs": []
    },
    {
      "cell_type": "code",
      "metadata": {
        "id": "LHpNyZXP4CUx",
        "colab_type": "code",
        "outputId": "214587b6-47c9-40dc-ac9c-015ba43eb3c1",
        "colab": {
          "base_uri": "https://localhost:8080/",
          "height": 68
        }
      },
      "source": [
        "# print the random weights and biased values that were assigned to it from nn.Linear\n",
        "print(list(model.parameters()))\n",
        "\n",
        "# (i)output depends on the output_size you have specified in model\n",
        "# 0.5153 is the weight and -0.4414 is the bias"
      ],
      "execution_count": 0,
      "outputs": [
        {
          "output_type": "stream",
          "text": [
            "[Parameter containing:\n",
            "tensor([[0.5153]], requires_grad=True), Parameter containing:\n",
            "tensor([-0.4414], requires_grad=True)]\n"
          ],
          "name": "stdout"
        }
      ]
    },
    {
      "cell_type": "code",
      "metadata": {
        "id": "UVzi3xQe4j8U",
        "colab_type": "code",
        "outputId": "e81bcae3-d232-4241-b6a5-6c7e184f7db0",
        "colab": {
          "base_uri": "https://localhost:8080/",
          "height": 34
        }
      },
      "source": [
        "# recall that we use 'forward' to make predictions\n",
        "x = torch.tensor([1.0])\n",
        "print(model.forward(x))"
      ],
      "execution_count": 0,
      "outputs": [
        {
          "output_type": "stream",
          "text": [
            "tensor([0.0739], grad_fn=<AddBackward0>)\n"
          ],
          "name": "stdout"
        }
      ]
    },
    {
      "cell_type": "code",
      "metadata": {
        "id": "sYmICvnL8bn4",
        "colab_type": "code",
        "outputId": "61a34189-5d8e-49b4-b4c3-ac006c35d9ba",
        "colab": {
          "base_uri": "https://localhost:8080/",
          "height": 51
        }
      },
      "source": [
        "# for multiple values\n",
        "x = torch.tensor([[1.0], [3.0]])\n",
        "print(model.forward(x))"
      ],
      "execution_count": 0,
      "outputs": [
        {
          "output_type": "stream",
          "text": [
            "tensor([[0.0739],\n",
            "        [1.1044]], grad_fn=<AddmmBackward>)\n"
          ],
          "name": "stdout"
        }
      ]
    },
    {
      "cell_type": "markdown",
      "metadata": {
        "id": "B8KYgRP-DhCi",
        "colab_type": "text"
      },
      "source": [
        "### Use dataset for custom linear model"
      ]
    },
    {
      "cell_type": "code",
      "metadata": {
        "id": "KAKBUzG--Xls",
        "colab_type": "code",
        "colab": {}
      },
      "source": [
        "import numpy as np\n",
        "import torch\n",
        "import torch.nn as nn\n",
        "import matplotlib.pyplot as plt"
      ],
      "execution_count": 0,
      "outputs": []
    },
    {
      "cell_type": "code",
      "metadata": {
        "id": "m7w3Ef8lD0ox",
        "colab_type": "code",
        "colab": {}
      },
      "source": [
        "class LR(nn.Module):\n",
        "  def __init__(self, input_size, output_size):\n",
        "    super().__init__()\n",
        "    self.linear = nn.Linear(input_size, output_size)\n",
        "  def forward(self, x):\n",
        "    return self.linear(x)"
      ],
      "execution_count": 0,
      "outputs": []
    },
    {
      "cell_type": "code",
      "metadata": {
        "id": "tj0IGIdgEOnC",
        "colab_type": "code",
        "outputId": "586beb39-e058-4299-fca2-331288ada689",
        "colab": {
          "base_uri": "https://localhost:8080/",
          "height": 68
        }
      },
      "source": [
        "torch.manual_seed(1)\n",
        "model = LR(1, 1)\n",
        "print(model)"
      ],
      "execution_count": 0,
      "outputs": [
        {
          "output_type": "stream",
          "text": [
            "LR(\n",
            "  (linear): Linear(in_features=1, out_features=1, bias=True)\n",
            ")\n"
          ],
          "name": "stdout"
        }
      ]
    },
    {
      "cell_type": "code",
      "metadata": {
        "id": "sLoMrDIXEdZu",
        "colab_type": "code",
        "outputId": "ad200701-d6cc-44c5-b969-0ec446ecc1a1",
        "colab": {
          "base_uri": "https://localhost:8080/",
          "height": 34
        }
      },
      "source": [
        "# unpack the parameters\n",
        "[w, b] = model.parameters()\n",
        "\n",
        "# add .item to return them as python numbers rather than tensors\n",
        "# w1 = w[0][0].item()\n",
        "# b1 = b[0].item()\n",
        "# print(w1, b1)\n",
        "# cleaning up the above as\n",
        "def get_params():\n",
        "  return (w[0][0].item(), b[0].item())\n",
        "get_params()"
      ],
      "execution_count": 0,
      "outputs": [
        {
          "output_type": "execute_result",
          "data": {
            "text/plain": [
              "(0.5152631998062134, -0.44137823581695557)"
            ]
          },
          "metadata": {
            "tags": []
          },
          "execution_count": 20
        }
      ]
    },
    {
      "cell_type": "code",
      "metadata": {
        "id": "M_t6XWdsEmL7",
        "colab_type": "code",
        "colab": {}
      },
      "source": [
        "def plot_fit(title):\n",
        "  plt.title = title # setting the title\n",
        "  w1, b1 = get_params()\n",
        "  x1 = np.array([-30, 30]) # set the base range of plot\n",
        "  y1 = w1 * x1 + b1\n",
        "  plt.plot(x1, y1, 'r') # line plot\n",
        "  plt.scatter(X, y) # dataset points as scatter plot\n",
        "  plt.show()"
      ],
      "execution_count": 0,
      "outputs": []
    },
    {
      "cell_type": "code",
      "metadata": {
        "id": "WEAvol9GHpot",
        "colab_type": "code",
        "outputId": "ff06d37c-5fa2-4321-e2af-c17f266b5a2d",
        "colab": {
          "base_uri": "https://localhost:8080/",
          "height": 269
        }
      },
      "source": [
        "plot_fit('Init model')"
      ],
      "execution_count": 0,
      "outputs": [
        {
          "output_type": "display_data",
          "data": {
            "image/png": "[encoded data removed]",
            "text/plain": [
              "<Figure size 432x288 with 1 Axes>"
            ]
          },
          "metadata": {
            "tags": []
          }
        }
      ]
    },
    {
      "cell_type": "markdown",
      "metadata": {
        "id": "bVTmNMTaH50a",
        "colab_type": "text"
      },
      "source": [
        "The first fit line is not the best fit and this is corrected going forward using Gradient descent."
      ]
    },
    {
      "cell_type": "markdown",
      "metadata": {
        "id": "VKC4a2rI4gpk",
        "colab_type": "text"
      },
      "source": [
        "### Loss Function"
      ]
    },
    {
      "cell_type": "markdown",
      "metadata": {
        "id": "jodtF3Gy7KHp",
        "colab_type": "text"
      },
      "source": [
        "Based on the above diagram, the initial line requires an optimization algo\n",
        "that will adjust these params based on total error until we get a line with suitable params\n",
        "\n",
        "consider a point (-3, 3) in the cartesian plane, since an infinite number of\n",
        "lines having weight and bias can pass through this point.\n",
        "\n",
        "But if we make the bias(the point where line crosses the y-plane) as zero and\n",
        "and assume line passes through the center of the plane. we can calculate\n",
        "the max distance between point and the line from the center.\n",
        "\n",
        "we then try out different values for Loss = (y - ycap)^2 where ycap is the equation of line passing\n",
        "through the center. hence the above equation reduces to \n",
        "\n",
        "(y - wx + b)^2\n",
        "Since bias is zero\n",
        "\n",
        "(y -wx)\n",
        "\n",
        "since we have a point (-3, 3)\n",
        "\n",
        "Loss = (3 - w(-3))\n",
        "\n",
        "and by trying different values for w, we try to get the lowest possible value for Loss"
      ]
    },
    {
      "cell_type": "markdown",
      "metadata": {
        "id": "1R75T4to9TMa",
        "colab_type": "text"
      },
      "source": [
        "### Gradient Descent\n",
        "\n",
        "Now we know how to calculate loss function, we now now look into how to train a model\n",
        "to determine the weight parameters which will minimize error function the most.\n",
        "\n",
        "Here is where Gradient Descent comes into picture, the way GD works is we our linear model will begin with a set of random initial parameters, first ignoring bias, we want our line to move towards the direction which gave the smallest error with respect to the point.\n",
        "\n",
        "GD = derivative (Loss function)\n",
        "\n",
        "If we plot all the values we tried to minimize the loss function, we get a reverse bell graph where the mean is the point of minimum loss.\n",
        "\n",
        "So we move along the negitive gradient of the bell graph,  which takes us in the direction of lowest error. We take the current weight and subtract the derivative of that function at the same point which takes us in the direction of least error.\n",
        "\n",
        "In summary, we first compute the derivative of loss function, then substitute the current weight value  of the line. This gives us the gradient  value.\n",
        "\n",
        "This gradient value is then subtracted from current weight to get the  new updated weight, the new weight should result in smaller error than previous one. We keep doing this iteratively untill we get a small error/optimal values for our linear model to fit the data.\n",
        "\n",
        "While we are find the optimal value in small steps, we multiply gradient with a small number known as learning rate which is very important and a standard learning rate lies between 1 and 100. This learning rate controls unwanted divergent behaviour such as moving away from our optimal path\n",
        "\n",
        "newWeight = oldWeight - learningRate * GD"
      ]
    },
    {
      "cell_type": "markdown",
      "metadata": {
        "id": "ZCAJfyzvEi5R",
        "colab_type": "text"
      },
      "source": [
        "### Mean Squared Error\n",
        "\n",
        "Calculated in the same way as Loss Equation, but it also includes Bias since it also needs to be updated during the training process.\n",
        "\n",
        "(y - wx + b)^2\n",
        "\n",
        "Pytorch does this under the hood."
      ]
    },
    {
      "cell_type": "markdown",
      "metadata": {
        "id": "Sh7HVqvKIxkY",
        "colab_type": "text"
      },
      "source": [
        "### Code:"
      ]
    },
    {
      "cell_type": "code",
      "metadata": {
        "id": "JOmr4cp0RLM6",
        "colab_type": "code",
        "colab": {}
      },
      "source": [
        "import torch\n",
        "import torch.nn as nn"
      ],
      "execution_count": 0,
      "outputs": []
    },
    {
      "cell_type": "code",
      "metadata": {
        "id": "RKp8cHUZEAZv",
        "colab_type": "code",
        "colab": {}
      },
      "source": [
        "# step1 is to Specift the loss function that we intent to minimize\n",
        "# access the built-in loss funtion as \n",
        "criterion = nn.MSELoss()\n",
        "\n",
        "# An optimizer that is used to update the parameters.\n",
        "# usually a gradient descent optimizer, notibly Stochastic GD\n",
        "# lr is learning rate and needs to be small\n",
        "optimizer = torch.optim.SGD(model.parameters(), lr=0.01)\n"
      ],
      "execution_count": 0,
      "outputs": []
    },
    {
      "cell_type": "markdown",
      "metadata": {
        "id": "w-dgyv08I7IQ",
        "colab_type": "text"
      },
      "source": [
        "\n",
        "\n",
        "\n",
        "the previous metioned GD is a batch GD which computes the gradient using the \n",
        "entire dataset by updating the weights based on the sum of accumulated errors.\n",
        "This is not optimal when dealing with a million datapoints where accumulated \n",
        "error is evaluted for every single datapoint for every iteration.\n",
        "\n",
        "Where as Stochastic GD minimizes the total loss one sample at a time\n",
        "and reach convergence much faster as it frequently update the weights of model \n",
        "within the same sample size\n",
        "\n",
        "now that we have set our configurations for training process, we train for certain epochs an epoch is a simple pass through dataset updating necessary values such as weight\n",
        "\n",
        "\n",
        "epoch should be more since we dont want to underfit our data, the more epochs, the more number of times it passes throught the dataset updating its values\n",
        "\n",
        "At the same time, we dont want to pass it so much it closely fits to a limited set of datapoints. i.e over-fitting.\n"
      ]
    },
    {
      "cell_type": "code",
      "metadata": {
        "id": "l3PBSt4WKLhh",
        "colab_type": "code",
        "outputId": "ab1cb4a8-29c7-4e91-816e-34ae5cac28bd",
        "colab": {
          "base_uri": "https://localhost:8080/",
          "height": 1717
        }
      },
      "source": [
        "epochs = 100\n",
        "losses = [] \n",
        "for i in range(epochs):\n",
        "  y_pred = model.forward(X)   # Get 1st prediction\n",
        "  loss = criterion(y_pred, y) # MSE loss for predicted and actual y\n",
        "  \n",
        "  print(\"Epoch\", i, \"Loss:\", loss.item())\n",
        "  losses.append(loss)\n",
        "  \n",
        "  # set the gradient since it gets accumulates after backward call\n",
        "  optimizer.zero_grad\n",
        "  \n",
        "  #minimize the loss, call GD of loss, for which we use backward func\n",
        "  loss.backward() # computes gradient descent\n",
        "  \n",
        "  # now that we have GD, we update our model parameters using optimizers\n",
        "  # all optims have step method thats used to update params of model\n",
        "  optimizer.step()"
      ],
      "execution_count": 0,
      "outputs": [
        {
          "output_type": "stream",
          "text": [
            "Epoch 0 Loss: 31.169994354248047\n",
            "Epoch 1 Loss: 29.742183685302734\n",
            "Epoch 2 Loss: 32.59523010253906\n",
            "Epoch 3 Loss: 28.3183536529541\n",
            "Epoch 4 Loss: 34.01171112060547\n",
            "Epoch 5 Loss: 26.90530014038086\n",
            "Epoch 6 Loss: 35.41339874267578\n",
            "Epoch 7 Loss: 25.509910583496094\n",
            "Epoch 8 Loss: 36.79447555541992\n",
            "Epoch 9 Loss: 24.139013290405273\n",
            "Epoch 10 Loss: 38.14915084838867\n",
            "Epoch 11 Loss: 22.79916763305664\n",
            "Epoch 12 Loss: 39.47147750854492\n",
            "Epoch 13 Loss: 21.496532440185547\n",
            "Epoch 14 Loss: 40.75543975830078\n",
            "Epoch 15 Loss: 20.236787796020508\n",
            "Epoch 16 Loss: 41.994895935058594\n",
            "Epoch 17 Loss: 19.025264739990234\n",
            "Epoch 18 Loss: 43.18376541137695\n",
            "Epoch 19 Loss: 17.866907119750977\n",
            "Epoch 20 Loss: 44.31613540649414\n",
            "Epoch 21 Loss: 16.7664852142334\n",
            "Epoch 22 Loss: 45.38651657104492\n",
            "Epoch 23 Loss: 15.728766441345215\n",
            "Epoch 24 Loss: 46.38995361328125\n",
            "Epoch 25 Loss: 14.758475303649902\n",
            "Epoch 26 Loss: 47.322078704833984\n",
            "Epoch 27 Loss: 13.860322952270508\n",
            "Epoch 28 Loss: 48.17906951904297\n",
            "Epoch 29 Loss: 13.03884220123291\n",
            "Epoch 30 Loss: 48.95756149291992\n",
            "Epoch 31 Loss: 12.298254013061523\n",
            "Epoch 32 Loss: 49.654510498046875\n",
            "Epoch 33 Loss: 11.642316818237305\n",
            "Epoch 34 Loss: 50.266990661621094\n",
            "Epoch 35 Loss: 11.074117660522461\n",
            "Epoch 36 Loss: 50.792236328125\n",
            "Epoch 37 Loss: 10.596083641052246\n",
            "Epoch 38 Loss: 51.22758865356445\n",
            "Epoch 39 Loss: 10.209976196289062\n",
            "Epoch 40 Loss: 51.57060241699219\n",
            "Epoch 41 Loss: 9.917034149169922\n",
            "Epoch 42 Loss: 51.8192138671875\n",
            "Epoch 43 Loss: 9.718108177185059\n",
            "Epoch 44 Loss: 51.971885681152344\n",
            "Epoch 45 Loss: 9.61381721496582\n",
            "Epoch 46 Loss: 52.02777862548828\n",
            "Epoch 47 Loss: 9.60462474822998\n",
            "Epoch 48 Loss: 51.986778259277344\n",
            "Epoch 49 Loss: 9.69084644317627\n",
            "Epoch 50 Loss: 51.849464416503906\n",
            "Epoch 51 Loss: 9.872556686401367\n",
            "Epoch 52 Loss: 51.61696243286133\n",
            "Epoch 53 Loss: 10.149444580078125\n",
            "Epoch 54 Loss: 51.29079055786133\n",
            "Epoch 55 Loss: 10.520668029785156\n",
            "Epoch 56 Loss: 50.87274169921875\n",
            "Epoch 57 Loss: 10.984709739685059\n",
            "Epoch 58 Loss: 50.36473083496094\n",
            "Epoch 59 Loss: 11.53935432434082\n",
            "Epoch 60 Loss: 49.76881790161133\n",
            "Epoch 61 Loss: 12.181724548339844\n",
            "Epoch 62 Loss: 49.08722686767578\n",
            "Epoch 63 Loss: 12.9083890914917\n",
            "Epoch 64 Loss: 48.32255172729492\n",
            "Epoch 65 Loss: 13.715591430664062\n",
            "Epoch 66 Loss: 47.477821350097656\n",
            "Epoch 67 Loss: 14.599332809448242\n",
            "Epoch 68 Loss: 46.556663513183594\n",
            "Epoch 69 Loss: 15.555574417114258\n",
            "Epoch 70 Loss: 45.5633659362793\n",
            "Epoch 71 Loss: 16.580238342285156\n",
            "Epoch 72 Loss: 44.502784729003906\n",
            "Epoch 73 Loss: 17.669099807739258\n",
            "Epoch 74 Loss: 43.38019943237305\n",
            "Epoch 75 Loss: 18.817777633666992\n",
            "Epoch 76 Loss: 42.20121765136719\n",
            "Epoch 77 Loss: 20.02147102355957\n",
            "Epoch 78 Loss: 40.97149658203125\n",
            "Epoch 79 Loss: 21.27495002746582\n",
            "Epoch 80 Loss: 39.69667053222656\n",
            "Epoch 81 Loss: 22.572465896606445\n",
            "Epoch 82 Loss: 38.382320404052734\n",
            "Epoch 83 Loss: 23.90779685974121\n",
            "Epoch 84 Loss: 37.03392791748047\n",
            "Epoch 85 Loss: 25.274404525756836\n",
            "Epoch 86 Loss: 35.657100677490234\n",
            "Epoch 87 Loss: 26.66558837890625\n",
            "Epoch 88 Loss: 34.25761413574219\n",
            "Epoch 89 Loss: 28.07469940185547\n",
            "Epoch 90 Loss: 32.84158706665039\n",
            "Epoch 91 Loss: 29.495277404785156\n",
            "Epoch 92 Loss: 31.415494918823242\n",
            "Epoch 93 Loss: 30.921079635620117\n",
            "Epoch 94 Loss: 29.98614501953125\n",
            "Epoch 95 Loss: 32.346073150634766\n",
            "Epoch 96 Loss: 28.56047821044922\n",
            "Epoch 97 Loss: 33.764312744140625\n",
            "Epoch 98 Loss: 27.14544677734375\n",
            "Epoch 99 Loss: 35.16984176635742\n"
          ],
          "name": "stdout"
        }
      ]
    },
    {
      "cell_type": "markdown",
      "metadata": {
        "id": "ErjU5iPLPyzg",
        "colab_type": "text"
      },
      "source": [
        "1) We make predictions using our model.\n",
        "\n",
        "2) Compare the predictions made by the model to the actual outputs and based on that determine the loss which is the means squared error\n",
        "\n",
        "3) we then use an optimization algorithm, In our case stochastic gradient descent to update the weights of our model in the direction of the least error thereby minimizing the error function of our model as we attempt to minimize the loss iteratively to obtain a model with optimal parameters the model that best fits our data all right."
      ]
    },
    {
      "cell_type": "code",
      "metadata": {
        "id": "37hzGkScSsXw",
        "colab_type": "code",
        "outputId": "9f24c3b1-b917-4bf6-ae50-3af071137e96",
        "colab": {
          "base_uri": "https://localhost:8080/",
          "height": 300
        }
      },
      "source": [
        "plt.plot(range(epochs), losses)\n",
        "plt.ylabel('Loss')\n",
        "plt.xlabel('Epochs')"
      ],
      "execution_count": 0,
      "outputs": [
        {
          "output_type": "execute_result",
          "data": {
            "text/plain": [
              "Text(0.5, 0, 'Epochs')"
            ]
          },
          "metadata": {
            "tags": []
          },
          "execution_count": 26
        },
        {
          "output_type": "display_data",
          "data": {
            "image/png": "[encoded data removed]",
            "text/plain": [
              "<Figure size 432x288 with 1 Axes>"
            ]
          },
          "metadata": {
            "tags": []
          }
        }
      ]
    },
    {
      "cell_type": "code",
      "metadata": {
        "id": "OTjJ4qYwTMeH",
        "colab_type": "code",
        "outputId": "cf903c8d-cddc-4399-9cb9-caa49bc57698",
        "colab": {
          "base_uri": "https://localhost:8080/",
          "height": 269
        }
      },
      "source": [
        "plot_fit(\"Trained Model\")"
      ],
      "execution_count": 0,
      "outputs": [
        {
          "output_type": "display_data",
          "data": {
            "image/png": "[encoded data removed]",
            "text/plain": [
              "<Figure size 432x288 with 1 Axes>"
            ]
          },
          "metadata": {
            "tags": []
          }
        }
      ]
    }
  ]
}