{
  "nbformat": 4,
  "nbformat_minor": 0,
  "metadata": {
    "colab": {
      "name": "Linear Regression using Pytorch.ipynb",
      "version": "0.3.2",
      "provenance": [],
      "collapsed_sections": [],
      "include_colab_link": true
    },
    "kernelspec": {
      "name": "python3",
      "display_name": "Python 3"
    },
    "accelerator": "GPU"
  },
  "cells": [
    {
      "cell_type": "markdown",
      "metadata": {
        "id": "view-in-github",
        "colab_type": "text"
      },
      "source": [
        "<a href=\"https://colab.research.google.com/github/rajeev-shivaram/PyTorch101/blob/master/Linear_Regression_using_Pytorch.ipynb\" target=\"_parent\"><img src=\"https://colab.research.google.com/assets/colab-badge.svg\" alt=\"Open In Colab\"/></a>"
      ]
    },
    {
      "cell_type": "markdown",
      "metadata": {
        "id": "eTadht-ZCsn3",
        "colab_type": "text"
      },
      "source": [
        "### 1. Declare a linear model and make basic predictions\n",
        "### 2. Generate a dataset\n",
        "### 3. Basic Linear model class\n",
        "### 4. Custom Linear model\n",
        "### 5. Use the dataset from Step2 into custom linear model from Step4 to do a first fit"
      ]
    },
    {
      "cell_type": "code",
      "metadata": {
        "id": "hhlMSTeqbJfC",
        "colab_type": "code",
        "colab": {}
      },
      "source": [
        "import torch"
      ],
      "execution_count": 0,
      "outputs": []
    },
    {
      "cell_type": "markdown",
      "metadata": {
        "id": "-gULedNhL9hB",
        "colab_type": "text"
      },
      "source": [
        "### Declare a linear model and use it to make predictions."
      ]
    },
    {
      "cell_type": "code",
      "metadata": {
        "id": "IXEAGRh2KrAq",
        "colab_type": "code",
        "colab": {}
      },
      "source": [
        "# Equation of a straight line is \n",
        "m = torch.tensor(3.0, requires_grad=True)\n",
        "c = torch.tensor(1.0, requires_grad=True)\n",
        "\n",
        "# y = m*x + c"
      ],
      "execution_count": 0,
      "outputs": []
    },
    {
      "cell_type": "markdown",
      "metadata": {
        "id": "BL8k-rirL3CK",
        "colab_type": "text"
      },
      "source": [
        "where m is slope, x is weight, c is the bias and y is the y-intercept or the point on y-axis where the line passes through."
      ]
    },
    {
      "cell_type": "markdown",
      "metadata": {
        "id": "d17CQZ6qLtEq",
        "colab_type": "text"
      },
      "source": [
        "We first start with a line which will not fit our data well, \n",
        "then use these data points to train a linear model to have an optimal weight\n",
        "and bias values which provides us with optimal fit."
      ]
    },
    {
      "cell_type": "code",
      "metadata": {
        "id": "87c9IT6sLw_h",
        "colab_type": "code",
        "colab": {}
      },
      "source": [
        "# to predict the values of y using x, define a forward function\n",
        "\n",
        "def forward(x):\n",
        "  y = m*x + c\n",
        "  return y"
      ],
      "execution_count": 0,
      "outputs": []
    },
    {
      "cell_type": "code",
      "metadata": {
        "id": "qXSnvThANGEd",
        "colab_type": "code",
        "outputId": "5946d7d8-feeb-474d-f4d4-f2ed8f800fdd",
        "colab": {
          "base_uri": "https://localhost:8080/",
          "height": 51
        }
      },
      "source": [
        "x = torch.tensor(2)\n",
        "forward(x)\n",
        "\n",
        "x = torch.tensor([[4], [7]]) \n",
        "# since forward function accept only one parm, wrap it in list\n",
        "forward(x)"
      ],
      "execution_count": 4,
      "outputs": [
        {
          "output_type": "execute_result",
          "data": {
            "text/plain": [
              "tensor([[13],\n",
              "        [22]], grad_fn=<AddBackward0>)"
            ]
          },
          "metadata": {
            "tags": []
          },
          "execution_count": 4
        }
      ]
    },
    {
      "cell_type": "markdown",
      "metadata": {
        "id": "WaL7gK5F_UE1",
        "colab_type": "text"
      },
      "source": [
        "### Create a dataset"
      ]
    },
    {
      "cell_type": "code",
      "metadata": {
        "id": "gbtqoxxI_YOS",
        "colab_type": "code",
        "colab": {}
      },
      "source": [
        "import torch\n",
        "import torch.nn as nn\n",
        "import matplotlib.pyplot as plt"
      ],
      "execution_count": 0,
      "outputs": []
    },
    {
      "cell_type": "code",
      "metadata": {
        "id": "BOldAv1Y_sbT",
        "colab_type": "code",
        "outputId": "0a59572b-300f-493d-e380-912530c0f2ff",
        "colab": {
          "base_uri": "https://localhost:8080/",
          "height": 286
        }
      },
      "source": [
        "# return a tensor filled with random numbers that are normally distributed around zero\n",
        "# also accepts a sequence of integers which then define the shape of tensor\n",
        "# torch.randn(rows, column)\n",
        "\n",
        "X = torch.randn(100, 1) * 10\n",
        "y = X # creates a perfect linear model\n",
        "plt.plot(X.numpy(), y.numpy(), 'o') # 'o' -> to show datapoint as circle"
      ],
      "execution_count": 7,
      "outputs": [
        {
          "output_type": "execute_result",
          "data": {
            "text/plain": [
              "[<matplotlib.lines.Line2D at 0x7fa64ff9f1d0>]"
            ]
          },
          "metadata": {
            "tags": []
          },
          "execution_count": 7
        },
        {
          "output_type": "display_data",
          "data": {
            "image/png": "[encoded data removed]",
            "text/plain": [
              "<Figure size 432x288 with 1 Axes>"
            ]
          },
          "metadata": {
            "tags": []
          }
        }
      ]
    },
    {
      "cell_type": "code",
      "metadata": {
        "id": "W4BSaRNqBUOl",
        "colab_type": "code",
        "outputId": "93a45a90-7c4f-4251-da36-d51f9c4822a2",
        "colab": {
          "base_uri": "https://localhost:8080/",
          "height": 300
        }
      },
      "source": [
        "# to introduce some noise we'll add displacement to y\n",
        "y = X + torch.randn(100, 1) * 3\n",
        "plt.plot(X.numpy(), y.numpy(), 'o')\n",
        "plt.xlabel('x')\n",
        "plt.ylabel('y')"
      ],
      "execution_count": 8,
      "outputs": [
        {
          "output_type": "execute_result",
          "data": {
            "text/plain": [
              "Text(0, 0.5, 'y')"
            ]
          },
          "metadata": {
            "tags": []
          },
          "execution_count": 8
        },
        {
          "output_type": "display_data",
          "data": {
            "image/png": "[encoded data removed]",
            "text/plain": [
              "<Figure size 432x288 with 1 Axes>"
            ]
          },
          "metadata": {
            "tags": []
          }
        }
      ]
    },
    {
      "cell_type": "markdown",
      "metadata": {
        "id": "-CHJJaxvOO0K",
        "colab_type": "text"
      },
      "source": [
        "### The Linear class"
      ]
    },
    {
      "cell_type": "code",
      "metadata": {
        "id": "OwjaK_gpOScj",
        "colab_type": "code",
        "colab": {}
      },
      "source": [
        "import torch\n",
        "from torch.nn import Linear"
      ],
      "execution_count": 0,
      "outputs": []
    },
    {
      "cell_type": "markdown",
      "metadata": {
        "id": "nTytJjD4mta2",
        "colab_type": "text"
      },
      "source": [
        "set the seed, the reason for setting seed is because when constructing our model, linear class will be given random\n",
        "we start with random value for weight and bias and then we train our model through gradient descent alog to find optimal parameters to fit our data"
      ]
    },
    {
      "cell_type": "code",
      "metadata": {
        "id": "MoYzLh5mOX_j",
        "colab_type": "code",
        "outputId": "5bc534a5-f846-4979-d9a2-3828cd29a6d6",
        "colab": {
          "base_uri": "https://localhost:8080/",
          "height": 68
        }
      },
      "source": [
        "\n",
        "torch.manual_seed(1)\n",
        "\n",
        "# for every prediction we make, for every output, there is one input\n",
        "model = Linear(in_features=1, out_features=1)\n",
        "\n",
        "print(model.bias, model.weight)\n",
        "# this results in our equation being y = model.weight*x + model.bias"
      ],
      "execution_count": 9,
      "outputs": [
        {
          "output_type": "stream",
          "text": [
            "Parameter containing:\n",
            "tensor([-0.4414], requires_grad=True) Parameter containing:\n",
            "tensor([[0.5153]], requires_grad=True)\n"
          ],
          "name": "stdout"
        }
      ]
    },
    {
      "cell_type": "code",
      "metadata": {
        "id": "KP0xNdZrSF9S",
        "colab_type": "code",
        "outputId": "58af7997-9165-488d-d8da-c85e1d1a1bd9",
        "colab": {
          "base_uri": "https://localhost:8080/",
          "height": 51
        }
      },
      "source": [
        "# make a prediction using an input x\n",
        "\n",
        "x = torch.tensor([2.0])\n",
        "# also\n",
        "x = torch.tensor([[2.0], [3.3]])\n",
        "print(model(x))"
      ],
      "execution_count": 10,
      "outputs": [
        {
          "output_type": "stream",
          "text": [
            "tensor([[0.5891],\n",
            "        [1.2590]], grad_fn=<AddmmBackward>)\n"
          ],
          "name": "stdout"
        }
      ]
    },
    {
      "cell_type": "markdown",
      "metadata": {
        "id": "-dKlByyy0wAZ",
        "colab_type": "text"
      },
      "source": [
        "### Custom Model"
      ]
    },
    {
      "cell_type": "code",
      "metadata": {
        "id": "HW34hvs0k_gh",
        "colab_type": "code",
        "colab": {}
      },
      "source": [
        "import torch\n",
        "import torch.nn as nn"
      ],
      "execution_count": 0,
      "outputs": []
    },
    {
      "cell_type": "code",
      "metadata": {
        "id": "uDoRqrvJ0-U-",
        "colab_type": "code",
        "colab": {}
      },
      "source": [
        "class LR(nn.Module):\n",
        "  \"\"\"\n",
        "  'Module' acts as a base class for all modules.\n",
        "  Here, Linear regression will be a subclass of nn.Module\n",
        "    thereby inherting nn as parent class\n",
        "  \"\"\"\n",
        "  \n",
        "  def __init__(self, input_size, output_size):\n",
        "    '''\n",
        "    Custome model requires an input and output just like \n",
        "    the Linear class.\n",
        "    '''\n",
        "    \n",
        "    #this allows for more freedom in use of multiple inhertiance from parent classes\n",
        "    super().__init__()\n",
        "    \n",
        "    # *** Upto this mark is boiler plate code ****\n",
        "    \n",
        "    # reps the instance of class object we intend to init\n",
        "    self.linear = nn.Linear(input_size, output_size)\n",
        "    \n",
        "    # writing the forward method that makes predictions\n",
        "  def forward(self, x):\n",
        "    pred = self.linear(x)\n",
        "    return pred\n"
      ],
      "execution_count": 0,
      "outputs": []
    },
    {
      "cell_type": "code",
      "metadata": {
        "id": "oCP8gzNO3Yqh",
        "colab_type": "code",
        "colab": {}
      },
      "source": [
        "torch.manual_seed(1)\n",
        "\n",
        "# init a new instance of your custom model\n",
        "model = LR(1, 1)"
      ],
      "execution_count": 0,
      "outputs": []
    },
    {
      "cell_type": "code",
      "metadata": {
        "id": "LHpNyZXP4CUx",
        "colab_type": "code",
        "outputId": "1f0263e7-a2bb-42dc-9070-7d1cad0dec97",
        "colab": {
          "base_uri": "https://localhost:8080/",
          "height": 68
        }
      },
      "source": [
        "# print the random weights and biased values that were assigned to it from nn.Linear\n",
        "print(list(model.parameters()))\n",
        "\n",
        "# (i)output depends on the output_size you have specified in model\n",
        "# 0.5153 is the weight and -0.4414 is the bias"
      ],
      "execution_count": 14,
      "outputs": [
        {
          "output_type": "stream",
          "text": [
            "[Parameter containing:\n",
            "tensor([[0.5153]], requires_grad=True), Parameter containing:\n",
            "tensor([-0.4414], requires_grad=True)]\n"
          ],
          "name": "stdout"
        }
      ]
    },
    {
      "cell_type": "code",
      "metadata": {
        "id": "UVzi3xQe4j8U",
        "colab_type": "code",
        "outputId": "f5129f1e-1d5a-46b3-bfa3-74dc8ffbd8c0",
        "colab": {
          "base_uri": "https://localhost:8080/",
          "height": 34
        }
      },
      "source": [
        "# recall that we use 'forward' to make predictions\n",
        "x = torch.tensor([1.0])\n",
        "print(model.forward(x))"
      ],
      "execution_count": 15,
      "outputs": [
        {
          "output_type": "stream",
          "text": [
            "tensor([0.0739], grad_fn=<AddBackward0>)\n"
          ],
          "name": "stdout"
        }
      ]
    },
    {
      "cell_type": "code",
      "metadata": {
        "id": "sYmICvnL8bn4",
        "colab_type": "code",
        "outputId": "910222b3-294e-4092-98cd-331e4e21c1d7",
        "colab": {
          "base_uri": "https://localhost:8080/",
          "height": 51
        }
      },
      "source": [
        "# for multiple values\n",
        "x = torch.tensor([[1.0], [3.0]])\n",
        "print(model.forward(x))"
      ],
      "execution_count": 16,
      "outputs": [
        {
          "output_type": "stream",
          "text": [
            "tensor([[0.0739],\n",
            "        [1.1044]], grad_fn=<AddmmBackward>)\n"
          ],
          "name": "stdout"
        }
      ]
    },
    {
      "cell_type": "markdown",
      "metadata": {
        "id": "B8KYgRP-DhCi",
        "colab_type": "text"
      },
      "source": [
        "### Use dataset for custom linear model"
      ]
    },
    {
      "cell_type": "code",
      "metadata": {
        "id": "KAKBUzG--Xls",
        "colab_type": "code",
        "colab": {}
      },
      "source": [
        "import numpy as np\n",
        "import torch\n",
        "import torch.nn as nn\n",
        "import matplotlib.pyplot as plt"
      ],
      "execution_count": 0,
      "outputs": []
    },
    {
      "cell_type": "code",
      "metadata": {
        "id": "m7w3Ef8lD0ox",
        "colab_type": "code",
        "colab": {}
      },
      "source": [
        "class LR(nn.Module):\n",
        "  def __init__(self, input_size, output_size):\n",
        "    super().__init__()\n",
        "    self.linear = nn.Linear(input_size, output_size)\n",
        "  def forward(self, x):\n",
        "    return self.linear(x)"
      ],
      "execution_count": 0,
      "outputs": []
    },
    {
      "cell_type": "code",
      "metadata": {
        "id": "tj0IGIdgEOnC",
        "colab_type": "code",
        "outputId": "ee142d3c-2426-4df4-f7de-e71b6fb12c1b",
        "colab": {
          "base_uri": "https://localhost:8080/",
          "height": 68
        }
      },
      "source": [
        "torch.manual_seed(1)\n",
        "model = LR(1, 1)\n",
        "print(model)"
      ],
      "execution_count": 3,
      "outputs": [
        {
          "output_type": "stream",
          "text": [
            "LR(\n",
            "  (linear): Linear(in_features=1, out_features=1, bias=True)\n",
            ")\n"
          ],
          "name": "stdout"
        }
      ]
    },
    {
      "cell_type": "code",
      "metadata": {
        "id": "sLoMrDIXEdZu",
        "colab_type": "code",
        "outputId": "557b2f97-1802-47e9-a21d-65c853746459",
        "colab": {
          "base_uri": "https://localhost:8080/",
          "height": 34
        }
      },
      "source": [
        "# unpack the parameters\n",
        "[w, b] = model.parameters()\n",
        "\n",
        "# add .item to return them as python numbers rather than tensors\n",
        "# w1 = w[0][0].item()\n",
        "# b1 = b[0].item()\n",
        "# print(w1, b1)\n",
        "# cleaning up the above as\n",
        "def get_params():\n",
        "  return (w[0][0].item(), b[0].item())\n",
        "get_params()"
      ],
      "execution_count": 4,
      "outputs": [
        {
          "output_type": "execute_result",
          "data": {
            "text/plain": [
              "(0.5152631998062134, -0.44137823581695557)"
            ]
          },
          "metadata": {
            "tags": []
          },
          "execution_count": 4
        }
      ]
    },
    {
      "cell_type": "code",
      "metadata": {
        "id": "M_t6XWdsEmL7",
        "colab_type": "code",
        "colab": {}
      },
      "source": [
        "def plot_fit(title):\n",
        "  plt.title = title # setting the title\n",
        "  w1, b1 = get_params()\n",
        "  x1 = np.array([-30, 30]) # set the base range of plot\n",
        "  y1 = w1 * x1 + b1\n",
        "  plt.plot(x1, y1, 'r') # line plot\n",
        "  plt.scatter(X, y) # dataset points as scatter plot\n",
        "  plt.show()"
      ],
      "execution_count": 0,
      "outputs": []
    },
    {
      "cell_type": "code",
      "metadata": {
        "id": "WEAvol9GHpot",
        "colab_type": "code",
        "outputId": "8663dabe-979f-489d-b071-b98f609c7456",
        "colab": {
          "base_uri": "https://localhost:8080/",
          "height": 269
        }
      },
      "source": [
        "plot_fit('Init model')"
      ],
      "execution_count": 10,
      "outputs": [
        {
          "output_type": "display_data",
          "data": {
            "image/png": "[encoded data removed]",
            "text/plain": [
              "<Figure size 432x288 with 1 Axes>"
            ]
          },
          "metadata": {
            "tags": []
          }
        }
      ]
    },
    {
      "cell_type": "markdown",
      "metadata": {
        "id": "bVTmNMTaH50a",
        "colab_type": "text"
      },
      "source": [
        "The first fit line is not the best fit and this is corrected going forward using Gradient descent."
      ]
    },
    {
      "cell_type": "markdown",
      "metadata": {
        "id": "VKC4a2rI4gpk",
        "colab_type": "text"
      },
      "source": [
        "### Loss Function"
      ]
    },
    {
      "cell_type": "markdown",
      "metadata": {
        "id": "jodtF3Gy7KHp",
        "colab_type": "text"
      },
      "source": [
        "Based on the above diagram, the initial line requires an optimization algo\n",
        "that will adjust these params based on total error until we get a line with suitable params\n",
        "\n",
        "consider a point (-3, 3) in the cartesian plane, since an infinite number of\n",
        "lines having weight and bias can pass through this point.\n",
        "\n",
        "But if we make the bias(the point where line crosses the y-plane) as zero and\n",
        "and assume line passes through the center of the plane. we can calculate\n",
        "the max distance between point and the line from the center.\n",
        "\n",
        "we then try out different values for Loss = (y - ycap)^2 where ycap is the equation of line passing\n",
        "through the center. hence the above equation reduces to \n",
        "\n",
        "(y - wx + b)^2\n",
        "Since bias is zero\n",
        "\n",
        "(y -wx)\n",
        "\n",
        "since we have a point (-3, 3)\n",
        "\n",
        "Loss = (3 - w(-3))\n",
        "\n",
        "and by trying different values for w, we try to get the lowest possible value for Loss"
      ]
    },
    {
      "cell_type": "markdown",
      "metadata": {
        "id": "1R75T4to9TMa",
        "colab_type": "text"
      },
      "source": [
        "### Gradient Descent\n",
        "\n",
        "Now we know how to calculate loss function, we now now look into how to train a model\n",
        "to determine the weight parameters which will minimize error function the most.\n",
        "\n",
        "Here is where Gradient Descent comes into picture, the way GD works is we our linear model will begin with a set of random initial parameters, first ignoring bias, we want our line to move towards the direction which gave the smallest error with respect to the point.\n",
        "\n",
        "GD = derivative (Loss function)\n",
        "\n",
        "If we plot all the values we tried to minimize the loss function, we get a reverse bell graph where the mean is the point of minimum loss.\n",
        "\n",
        "So we move along the negitive gradient of the bell graph,  which takes us in the direction of lowest error. We take the current weight and subtract the derivative of that function at the same point which takes us in the direction of least error.\n",
        "\n",
        "In summary, we first compute the derivative of loss function, then substitute the current weight value  of the line. This gives us the gradient  value.\n",
        "\n",
        "This gradient value is then subtracted from current weight to get the  new updated weight, the new weight should result in smaller error than previous one. We keep doing this iteratively untill we get a small error/optimal values for our linear model to fit the data.\n",
        "\n",
        "While we are find the optimal value in small steps, we multiply gradient with a small number known as learning rate which is very important and a standard learning rate lies between 1 and 100. This learning rate controls unwanted divergent behaviour such as moving away from our optimal path\n",
        "\n",
        "newWeight = oldWeight - learningRate * GD"
      ]
    },
    {
      "cell_type": "markdown",
      "metadata": {
        "id": "ZCAJfyzvEi5R",
        "colab_type": "text"
      },
      "source": [
        "### Mean Squared Error\n",
        "\n",
        "Calculated in the same way as Loss Equation, but it also includes Bias since it also needs to be updated during the training process.\n",
        "\n",
        "(y - wx + b)^2\n",
        "\n",
        "Pytorch does this under the hood."
      ]
    },
    {
      "cell_type": "markdown",
      "metadata": {
        "id": "Sh7HVqvKIxkY",
        "colab_type": "text"
      },
      "source": [
        "### Code:"
      ]
    },
    {
      "cell_type": "code",
      "metadata": {
        "id": "JOmr4cp0RLM6",
        "colab_type": "code",
        "colab": {}
      },
      "source": [
        "import torch\n",
        "import torch.nn as nn"
      ],
      "execution_count": 0,
      "outputs": []
    },
    {
      "cell_type": "code",
      "metadata": {
        "id": "RKp8cHUZEAZv",
        "colab_type": "code",
        "colab": {}
      },
      "source": [
        "# step1 is to Specift the loss function that we intent to minimize\n",
        "# access the built-in loss funtion as \n",
        "criterion = nn.MSELoss()\n",
        "\n",
        "# An optimizer that is used to update the parameters.\n",
        "# usually a gradient descent optimizer, notibly Stochastic GD\n",
        "# lr is learning rate and needs to be small\n",
        "optimizer = torch.optim.SGD(model.parameters(), lr=0.01)\n"
      ],
      "execution_count": 0,
      "outputs": []
    },
    {
      "cell_type": "markdown",
      "metadata": {
        "id": "w-dgyv08I7IQ",
        "colab_type": "text"
      },
      "source": [
        "\n",
        "\n",
        "\n",
        "the previous metioned GD is a batch GD which computes the gradient using the \n",
        "entire dataset by updating the weights based on the sum of accumulated errors.\n",
        "This is not optimal when dealing with a million datapoints where accumulated \n",
        "error is evaluted for every single datapoint for every iteration.\n",
        "\n",
        "Where as Stochastic GD minimizes the total loss one sample at a time\n",
        "and reach convergence much faster as it frequently update the weights of model \n",
        "within the same sample size\n",
        "\n",
        "now that we have set our configurations for training process, we train for certain epochs an epoch is a simple pass through dataset updating necessary values such as weight\n",
        "\n",
        "\n",
        "epoch should be more since we dont want to underfit our data, the more epochs, the more number of times it passes throught the dataset updating its values\n",
        "\n",
        "At the same time, we dont want to pass it so much it closely fits to a limited set of datapoints. i.e over-fitting.\n"
      ]
    },
    {
      "cell_type": "code",
      "metadata": {
        "id": "l3PBSt4WKLhh",
        "colab_type": "code",
        "colab": {
          "base_uri": "https://localhost:8080/",
          "height": 1717
        },
        "outputId": "459d1331-cc17-4cab-a3f8-e1326c2e3163"
      },
      "source": [
        "epochs = 100\n",
        "losses = [] \n",
        "for i in range(epochs):\n",
        "  y_pred = model.forward(X)   # Get 1st prediction\n",
        "  loss = criterion(y_pred, y) # MSE loss for predicted and actual y\n",
        "  \n",
        "  print(\"Epoch\", i, \"Loss:\", loss.item())\n",
        "  losses.append(loss)\n",
        "  \n",
        "  # set the gradient since it gets accumulates after backward call\n",
        "  optimizer.zero_grad\n",
        "  \n",
        "  #minimize the loss, call GD of loss, for which we use backward func\n",
        "  loss.backward() # computes gradient descent\n",
        "  \n",
        "  # now that we have GD, we update our model parameters using optimizers\n",
        "  # all optims have step method thats used to update params of model\n",
        "  optimizer.step()"
      ],
      "execution_count": 18,
      "outputs": [
        {
          "output_type": "stream",
          "text": [
            "Epoch 0 Loss: 602186973184.0\n",
            "Epoch 1 Loss: 282654507008.0\n",
            "Epoch 2 Loss: 711107018752.0\n",
            "Epoch 3 Loss: 180593000448.0\n",
            "Epoch 4 Loss: 804676829184.0\n",
            "Epoch 5 Loss: 97013121024.0\n",
            "Epoch 6 Loss: 876928958464.0\n",
            "Epoch 7 Loss: 37245407232.0\n",
            "Epoch 8 Loss: 923255570432.0\n",
            "Epoch 9 Loss: 5101284352.0\n",
            "Epoch 10 Loss: 940702564352.0\n",
            "Epoch 11 Loss: 2630410496.0\n",
            "Epoch 12 Loss: 928157597696.0\n",
            "Epoch 13 Loss: 29990449152.0\n",
            "Epoch 14 Loss: 886420471808.0\n",
            "Epoch 15 Loss: 85436710912.0\n",
            "Epoch 16 Loss: 818153062400.0\n",
            "Epoch 17 Loss: 165433393152.0\n",
            "Epoch 18 Loss: 727708205056.0\n",
            "Epoch 19 Loss: 264878096384.0\n",
            "Epoch 20 Loss: 620854444032.0\n",
            "Epoch 21 Loss: 377429917696.0\n",
            "Epoch 22 Loss: 504405950464.0\n",
            "Epoch 23 Loss: 495910551552.0\n",
            "Epoch 24 Loss: 385789231104.0\n",
            "Epoch 25 Loss: 612764745728.0\n",
            "Epoch 26 Loss: 272568451072.0\n",
            "Epoch 27 Loss: 720540467200.0\n",
            "Epoch 28 Loss: 171963777024.0\n",
            "Epoch 29 Loss: 812363743232.0\n",
            "Epoch 30 Loss: 90391298048.0\n",
            "Epoch 31 Loss: 882379194368.0\n",
            "Epoch 32 Loss: 33053351936.0\n",
            "Epoch 33 Loss: 926122442752.0\n",
            "Epoch 34 Loss: 3605985792.0\n",
            "Epoch 35 Loss: 940803031040.0\n",
            "Epoch 36 Loss: 3927249920.0\n",
            "Epoch 37 Loss: 925485039616.0\n",
            "Epoch 38 Loss: 33997023232.0\n",
            "Epoch 39 Loss: 881145151488.0\n",
            "Epoch 40 Loss: 91897643008.0\n",
            "Epoch 41 Loss: 810611179520.0\n",
            "Epoch 42 Loss: 173936345088.0\n",
            "Epoch 43 Loss: 718381318144.0\n",
            "Epoch 44 Loss: 274881150976.0\n",
            "Epoch 45 Loss: 610337095680.0\n",
            "Epoch 46 Loss: 388294967296.0\n",
            "Epoch 47 Loss: 493368901632.0\n",
            "Epoch 48 Loss: 506945110016.0\n",
            "Epoch 49 Loss: 374936141824.0\n",
            "Epoch 50 Loss: 623265120256.0\n",
            "Epoch 51 Loss: 262591283200.0\n",
            "Epoch 52 Loss: 729836683264.0\n",
            "Epoch 53 Loss: 163499261952.0\n",
            "Epoch 54 Loss: 819863289856.0\n",
            "Epoch 55 Loss: 83979362304.0\n",
            "Epoch 56 Loss: 887603855360.0\n",
            "Epoch 57 Loss: 29102510080.0\n",
            "Epoch 58 Loss: 928738770944.0\n",
            "Epoch 59 Loss: 2368382976.0\n",
            "Epoch 60 Loss: 940644171776.0\n",
            "Epoch 61 Loss: 5482086912.0\n",
            "Epoch 62 Loss: 922561150976.0\n",
            "Epoch 63 Loss: 38244847616.0\n",
            "Epoch 64 Loss: 875642945536.0\n",
            "Epoch 65 Loss: 98567938048.0\n",
            "Epoch 66 Loss: 802881470464.0\n",
            "Epoch 67 Loss: 182603776000.0\n",
            "Epoch 68 Loss: 708916543488.0\n",
            "Epoch 69 Loss: 284993388544.0\n",
            "Epoch 70 Loss: 599740710912.0\n",
            "Epoch 71 Loss: 399206744064.0\n",
            "Epoch 72 Loss: 482317369344.0\n",
            "Epoch 73 Loss: 517960663040.0\n",
            "Epoch 74 Loss: 364133810176.0\n",
            "Epoch 75 Loss: 633681805312.0\n",
            "Epoch 76 Loss: 252727574528.0\n",
            "Epoch 77 Loss: 738989899776.0\n",
            "Epoch 78 Loss: 155202863104.0\n",
            "Epoch 79 Loss: 827169636352.0\n",
            "Epoch 80 Loss: 77779632128.0\n",
            "Epoch 81 Loss: 892597174272.0\n",
            "Epoch 82 Loss: 25394876416.0\n",
            "Epoch 83 Loss: 931100164096.0\n",
            "Epoch 84 Loss: 1389393664.0\n",
            "Epoch 85 Loss: 940223758336.0\n",
            "Epoch 86 Loss: 7294041088.0\n",
            "Epoch 87 Loss: 919385473024.0\n",
            "Epoch 88 Loss: 42732339200.0\n",
            "Epoch 89 Loss: 869914378240.0\n",
            "Epoch 90 Loss: 105444352000.0\n",
            "Epoch 91 Loss: 794965442560.0\n",
            "Epoch 92 Loss: 191430705152.0\n",
            "Epoch 93 Loss: 699318009856.0\n",
            "Epoch 94 Loss: 295207665664.0\n",
            "Epoch 95 Loss: 589072105472.0\n",
            "Epoch 96 Loss: 410157088768.0\n",
            "Epoch 97 Loss: 471258333184.0\n",
            "Epoch 98 Loss: 528948199424.0\n",
            "Epoch 99 Loss: 353390690304.0\n"
          ],
          "name": "stdout"
        }
      ]
    },
    {
      "cell_type": "markdown",
      "metadata": {
        "id": "ErjU5iPLPyzg",
        "colab_type": "text"
      },
      "source": [
        "1) We make predictions using our model.\n",
        "\n",
        "2) Compare the predictions made by the model to the actual outputs and based on that determine the loss which is the means squared error\n",
        "\n",
        "3) we then use an optimization algorithm, In our case stochastic gradient descent to update the weights of our model in the direction of the least error thereby minimizing the error function of our model as we attempt to minimize the loss iteratively to obtain a model with optimal parameters the model that best fits our data all right."
      ]
    },
    {
      "cell_type": "code",
      "metadata": {
        "id": "37hzGkScSsXw",
        "colab_type": "code",
        "colab": {
          "base_uri": "https://localhost:8080/",
          "height": 307
        },
        "outputId": "35158f67-1296-46dd-b082-0eddefa02e4c"
      },
      "source": [
        "plt.plot(range(epochs), losses)\n",
        "plt.ylabel('Loss')\n",
        "plt.xlabel('Epochs')"
      ],
      "execution_count": 19,
      "outputs": [
        {
          "output_type": "execute_result",
          "data": {
            "text/plain": [
              "Text(0.5, 0, 'Epochs')"
            ]
          },
          "metadata": {
            "tags": []
          },
          "execution_count": 19
        },
        {
          "output_type": "display_data",
          "data": {
            "image/png": "[encoded data removed]",
            "text/plain": [
              "<Figure size 432x288 with 1 Axes>"
            ]
          },
          "metadata": {
            "tags": []
          }
        }
      ]
    },
    {
      "cell_type": "code",
      "metadata": {
        "id": "OTjJ4qYwTMeH",
        "colab_type": "code",
        "colab": {}
      },
      "source": [
        ""
      ],
      "execution_count": 0,
      "outputs": []
    }
  ]
}