{
  "nbformat": 4,
  "nbformat_minor": 0,
  "metadata": {
    "colab": {
      "name": "Linear Regression using Pytorch.ipynb",
      "version": "0.3.2",
      "provenance": [],
      "collapsed_sections": [],
      "include_colab_link": true
    },
    "kernelspec": {
      "name": "python3",
      "display_name": "Python 3"
    },
    "accelerator": "GPU"
  },
  "cells": [
    {
      "cell_type": "markdown",
      "metadata": {
        "id": "view-in-github",
        "colab_type": "text"
      },
      "source": [
        "<a href=\"https://colab.research.google.com/github/rajeev-shivaram/PyTorch101/blob/master/Linear_Regression_using_Pytorch.ipynb\" target=\"_parent\"><img src=\"https://colab.research.google.com/assets/colab-badge.svg\" alt=\"Open In Colab\"/></a>"
      ]
    },
    {
      "cell_type": "markdown",
      "metadata": {
        "id": "eTadht-ZCsn3",
        "colab_type": "text"
      },
      "source": [
        "### 1. Declare a linear model and make basic predictions\n",
        "### 2. Generate a dataset\n",
        "### 3. Basic Linear model class\n",
        "### 4. Custom Linear model\n",
        "### 5. Use the dataset from Step2 into custom linear model from Step4 to do a first fit"
      ]
    },
    {
      "cell_type": "code",
      "metadata": {
        "id": "hhlMSTeqbJfC",
        "colab_type": "code",
        "colab": {}
      },
      "source": [
        "import torch"
      ],
      "execution_count": 0,
      "outputs": []
    },
    {
      "cell_type": "markdown",
      "metadata": {
        "id": "-gULedNhL9hB",
        "colab_type": "text"
      },
      "source": [
        "### Declare a linear model and use it to make predictions."
      ]
    },
    {
      "cell_type": "code",
      "metadata": {
        "id": "IXEAGRh2KrAq",
        "colab_type": "code",
        "colab": {}
      },
      "source": [
        "# Equation of a straight line is \n",
        "m = torch.tensor(3.0, requires_grad=True)\n",
        "c = torch.tensor(1.0, requires_grad=True)\n",
        "\n",
        "# y = m*x + c"
      ],
      "execution_count": 0,
      "outputs": []
    },
    {
      "cell_type": "markdown",
      "metadata": {
        "id": "BL8k-rirL3CK",
        "colab_type": "text"
      },
      "source": [
        "where m is slope, x is weight, c is the bias and y is the y-intercept or the point on y-axis where the line passes through."
      ]
    },
    {
      "cell_type": "markdown",
      "metadata": {
        "id": "d17CQZ6qLtEq",
        "colab_type": "text"
      },
      "source": [
        "We first start with a line which will not fit our data well, \n",
        "then use these data points to train a linear model to have an optimal weight\n",
        "and bias values which provides us with optimal fit."
      ]
    },
    {
      "cell_type": "code",
      "metadata": {
        "id": "87c9IT6sLw_h",
        "colab_type": "code",
        "colab": {}
      },
      "source": [
        "# to predict the values of y using x, define a forward function\n",
        "\n",
        "def forward(x):\n",
        "  y = m*x + c\n",
        "  return y"
      ],
      "execution_count": 0,
      "outputs": []
    },
    {
      "cell_type": "code",
      "metadata": {
        "id": "qXSnvThANGEd",
        "colab_type": "code",
        "colab": {
          "base_uri": "https://localhost:8080/",
          "height": 51
        },
        "outputId": "a993ccb7-017b-4728-8326-0bb65bc71b72"
      },
      "source": [
        "x = torch.tensor(2)\n",
        "forward(x)\n",
        "\n",
        "x = torch.tensor([[4], [7]]) \n",
        "# since forward function accept only one parm, wrap it in list\n",
        "forward(x)"
      ],
      "execution_count": 4,
      "outputs": [
        {
          "output_type": "execute_result",
          "data": {
            "text/plain": [
              "tensor([[13],\n",
              "        [22]], grad_fn=<AddBackward0>)"
            ]
          },
          "metadata": {
            "tags": []
          },
          "execution_count": 4
        }
      ]
    },
    {
      "cell_type": "markdown",
      "metadata": {
        "id": "WaL7gK5F_UE1",
        "colab_type": "text"
      },
      "source": [
        "### Create a dataset"
      ]
    },
    {
      "cell_type": "code",
      "metadata": {
        "id": "gbtqoxxI_YOS",
        "colab_type": "code",
        "colab": {}
      },
      "source": [
        "import torch\n",
        "import torch.nn as nn\n",
        "import matplotlib.pyplot as plt"
      ],
      "execution_count": 0,
      "outputs": []
    },
    {
      "cell_type": "code",
      "metadata": {
        "id": "BOldAv1Y_sbT",
        "colab_type": "code",
        "colab": {
          "base_uri": "https://localhost:8080/",
          "height": 286
        },
        "outputId": "128fa3c6-bd80-4b97-efa6-33e2a65c869b"
      },
      "source": [
        "# return a tensor filled with random numbers that are normally distributed around zero\n",
        "# also accepts a sequence of integers which then define the shape of tensor\n",
        "# torch.randn(rows, column)\n",
        "\n",
        "X = torch.randn(100, 1) * 10\n",
        "y = X # creates a perfect linear model\n",
        "plt.plot(X.numpy(), y.numpy(), 'o') # 'o' -> to show datapoint as circle"
      ],
      "execution_count": 21,
      "outputs": [
        {
          "output_type": "execute_result",
          "data": {
            "text/plain": [
              "[<matplotlib.lines.Line2D at 0x7f85fe5b7978>]"
            ]
          },
          "metadata": {
            "tags": []
          },
          "execution_count": 21
        },
        {
          "output_type": "display_data",
          "data": {
            "image/png": "[encoded data removed]",
            "text/plain": [
              "<Figure size 432x288 with 1 Axes>"
            ]
          },
          "metadata": {
            "tags": []
          }
        }
      ]
    },
    {
      "cell_type": "code",
      "metadata": {
        "id": "W4BSaRNqBUOl",
        "colab_type": "code",
        "colab": {
          "base_uri": "https://localhost:8080/",
          "height": 300
        },
        "outputId": "c653fc71-278b-4858-ea24-ed60593569c0"
      },
      "source": [
        "# to introduce some noise we'll add displacement to y\n",
        "y = X + torch.randn(100, 1) * 3\n",
        "plt.plot(X.numpy(), y.numpy(), 'o')\n",
        "plt.xlabel('x')\n",
        "plt.ylabel('y')"
      ],
      "execution_count": 34,
      "outputs": [
        {
          "output_type": "execute_result",
          "data": {
            "text/plain": [
              "Text(0, 0.5, 'y')"
            ]
          },
          "metadata": {
            "tags": []
          },
          "execution_count": 34
        },
        {
          "output_type": "display_data",
          "data": {
            "image/png": "[encoded data removed]",
            "text/plain": [
              "<Figure size 432x288 with 1 Axes>"
            ]
          },
          "metadata": {
            "tags": []
          }
        }
      ]
    },
    {
      "cell_type": "markdown",
      "metadata": {
        "id": "-CHJJaxvOO0K",
        "colab_type": "text"
      },
      "source": [
        "### The Linear class"
      ]
    },
    {
      "cell_type": "code",
      "metadata": {
        "id": "OwjaK_gpOScj",
        "colab_type": "code",
        "colab": {}
      },
      "source": [
        "import torch\n",
        "from torch.nn import Linear"
      ],
      "execution_count": 0,
      "outputs": []
    },
    {
      "cell_type": "markdown",
      "metadata": {
        "id": "nTytJjD4mta2",
        "colab_type": "text"
      },
      "source": [
        "set the seed, the reason for setting seed is because when constructing our model, linear class will be given random\n",
        "we start with random value for weight and bias and then we train our model through gradient descent alog to find optimal parameters to fit our data"
      ]
    },
    {
      "cell_type": "code",
      "metadata": {
        "id": "MoYzLh5mOX_j",
        "colab_type": "code",
        "colab": {
          "base_uri": "https://localhost:8080/",
          "height": 68
        },
        "outputId": "7394551d-d32f-4767-fe85-fbdcd0a35001"
      },
      "source": [
        "\n",
        "torch.manual_seed(1)\n",
        "\n",
        "# for every prediction we make, for every output, there is one input\n",
        "model = Linear(in_features=1, out_features=1)\n",
        "\n",
        "print(model.bias, model.weight)\n",
        "# this results in our equation being y = model.weight*x + model.bias"
      ],
      "execution_count": 6,
      "outputs": [
        {
          "output_type": "stream",
          "text": [
            "Parameter containing:\n",
            "tensor([-0.4414], requires_grad=True) Parameter containing:\n",
            "tensor([[0.5153]], requires_grad=True)\n"
          ],
          "name": "stdout"
        }
      ]
    },
    {
      "cell_type": "code",
      "metadata": {
        "id": "KP0xNdZrSF9S",
        "colab_type": "code",
        "colab": {
          "base_uri": "https://localhost:8080/",
          "height": 51
        },
        "outputId": "f3bf7494-9177-4b33-e4c5-dd9f0647dee4"
      },
      "source": [
        "# make a prediction using an input x\n",
        "\n",
        "x = torch.tensor([2.0])\n",
        "# also\n",
        "x = torch.tensor([[2.0], [3.3]])\n",
        "print(model(x))"
      ],
      "execution_count": 7,
      "outputs": [
        {
          "output_type": "stream",
          "text": [
            "tensor([[0.5891],\n",
            "        [1.2590]], grad_fn=<AddmmBackward>)\n"
          ],
          "name": "stdout"
        }
      ]
    },
    {
      "cell_type": "markdown",
      "metadata": {
        "id": "-dKlByyy0wAZ",
        "colab_type": "text"
      },
      "source": [
        "### Custom Model"
      ]
    },
    {
      "cell_type": "code",
      "metadata": {
        "id": "HW34hvs0k_gh",
        "colab_type": "code",
        "colab": {}
      },
      "source": [
        "import torch\n",
        "import torch.nn as nn"
      ],
      "execution_count": 0,
      "outputs": []
    },
    {
      "cell_type": "code",
      "metadata": {
        "id": "uDoRqrvJ0-U-",
        "colab_type": "code",
        "colab": {}
      },
      "source": [
        "class LR(nn.Module):\n",
        "  \"\"\"\n",
        "  'Module' acts as a base class for all modules.\n",
        "  Here, Linear regression will be a subclass of nn.Module\n",
        "    thereby inherting nn as parent class\n",
        "  \"\"\"\n",
        "  \n",
        "  def __init__(self, input_size, output_size):\n",
        "    '''\n",
        "    Custome model requires an input and output just like \n",
        "    the Linear class.\n",
        "    '''\n",
        "    \n",
        "    #this allows for more freedom in use of multiple inhertiance from parent classes\n",
        "    super().__init__()\n",
        "    \n",
        "    # *** Upto this mark is boiler plate code ****\n",
        "    \n",
        "    # reps the instance of class object we intend to init\n",
        "    self.linear = nn.Linear(input_size, output_size)\n",
        "    \n",
        "    # writing the forward method that makes predictions\n",
        "  def forward(self, x):\n",
        "    pred = self.linear(x)\n",
        "    return pred\n"
      ],
      "execution_count": 0,
      "outputs": []
    },
    {
      "cell_type": "code",
      "metadata": {
        "id": "oCP8gzNO3Yqh",
        "colab_type": "code",
        "colab": {}
      },
      "source": [
        "torch.manual_seed(1)\n",
        "\n",
        "# init a new instance of your custom model\n",
        "model = LR(1, 1)"
      ],
      "execution_count": 0,
      "outputs": []
    },
    {
      "cell_type": "code",
      "metadata": {
        "id": "LHpNyZXP4CUx",
        "colab_type": "code",
        "colab": {
          "base_uri": "https://localhost:8080/",
          "height": 68
        },
        "outputId": "4f2af10e-dfaf-4fc2-80cf-113814b48290"
      },
      "source": [
        "# print the random weights and biased values that were assigned to it from nn.Linear\n",
        "print(list(model.parameters()))\n",
        "\n",
        "# (i)output depends on the output_size you have specified in model\n",
        "# 0.5153 is the weight and -0.4414 is the bias"
      ],
      "execution_count": 11,
      "outputs": [
        {
          "output_type": "stream",
          "text": [
            "[Parameter containing:\n",
            "tensor([[0.5153]], requires_grad=True), Parameter containing:\n",
            "tensor([-0.4414], requires_grad=True)]\n"
          ],
          "name": "stdout"
        }
      ]
    },
    {
      "cell_type": "code",
      "metadata": {
        "id": "UVzi3xQe4j8U",
        "colab_type": "code",
        "colab": {
          "base_uri": "https://localhost:8080/",
          "height": 34
        },
        "outputId": "961f5959-0e72-4875-f163-4d09f9e1a4c4"
      },
      "source": [
        "# recall that we use 'forward' to make predictions\n",
        "x = torch.tensor([1.0])\n",
        "print(model.forward(x))"
      ],
      "execution_count": 12,
      "outputs": [
        {
          "output_type": "stream",
          "text": [
            "tensor([0.0739], grad_fn=<AddBackward0>)\n"
          ],
          "name": "stdout"
        }
      ]
    },
    {
      "cell_type": "code",
      "metadata": {
        "id": "sYmICvnL8bn4",
        "colab_type": "code",
        "colab": {
          "base_uri": "https://localhost:8080/",
          "height": 51
        },
        "outputId": "7bde548c-aab2-475a-99ba-852681248b07"
      },
      "source": [
        "# for multiple values\n",
        "x = torch.tensor([[1.0], [3.0]])\n",
        "print(model.forward(x))"
      ],
      "execution_count": 13,
      "outputs": [
        {
          "output_type": "stream",
          "text": [
            "tensor([[0.0739],\n",
            "        [1.1044]], grad_fn=<AddmmBackward>)\n"
          ],
          "name": "stdout"
        }
      ]
    },
    {
      "cell_type": "markdown",
      "metadata": {
        "id": "B8KYgRP-DhCi",
        "colab_type": "text"
      },
      "source": [
        "### Use dataset for custom linear model"
      ]
    },
    {
      "cell_type": "code",
      "metadata": {
        "id": "KAKBUzG--Xls",
        "colab_type": "code",
        "colab": {}
      },
      "source": [
        "import numpy as np\n",
        "import torch\n",
        "import torch.nn as nn\n",
        "import matplotlib.pyplot as plt"
      ],
      "execution_count": 0,
      "outputs": []
    },
    {
      "cell_type": "code",
      "metadata": {
        "id": "m7w3Ef8lD0ox",
        "colab_type": "code",
        "colab": {}
      },
      "source": [
        "class LR(nn.Module):\n",
        "  def __init__(self, input_size, output_size):\n",
        "    super().__init__()\n",
        "    self.linear = nn.Linear(input_size, output_size)\n",
        "  def forward(self, x):\n",
        "    return self.linear(x)"
      ],
      "execution_count": 0,
      "outputs": []
    },
    {
      "cell_type": "code",
      "metadata": {
        "id": "tj0IGIdgEOnC",
        "colab_type": "code",
        "colab": {
          "base_uri": "https://localhost:8080/",
          "height": 68
        },
        "outputId": "db0e6e8d-a027-4366-9557-fe050bf278ce"
      },
      "source": [
        "torch.manual_seed(1)\n",
        "model = LR(1, 1)\n",
        "print(model)"
      ],
      "execution_count": 42,
      "outputs": [
        {
          "output_type": "stream",
          "text": [
            "LR(\n",
            "  (linear): Linear(in_features=1, out_features=1, bias=True)\n",
            ")\n"
          ],
          "name": "stdout"
        }
      ]
    },
    {
      "cell_type": "code",
      "metadata": {
        "id": "sLoMrDIXEdZu",
        "colab_type": "code",
        "colab": {
          "base_uri": "https://localhost:8080/",
          "height": 34
        },
        "outputId": "ea86137c-15c3-4056-8b6b-366b5d22aaff"
      },
      "source": [
        "# unpack the parameters\n",
        "[w, b] = model.parameters()\n",
        "\n",
        "# add .item to return them as python numbers rather than tensors\n",
        "# w1 = w[0][0].item()\n",
        "# b1 = b[0].item()\n",
        "# print(w1, b1)\n",
        "# cleaning up the above as\n",
        "def get_params():\n",
        "  return (w[0][0].item(), b[0].item())\n",
        "get_params()"
      ],
      "execution_count": 51,
      "outputs": [
        {
          "output_type": "execute_result",
          "data": {
            "text/plain": [
              "(0.5152631998062134, -0.44137823581695557)"
            ]
          },
          "metadata": {
            "tags": []
          },
          "execution_count": 51
        }
      ]
    },
    {
      "cell_type": "code",
      "metadata": {
        "id": "M_t6XWdsEmL7",
        "colab_type": "code",
        "colab": {}
      },
      "source": [
        "def plot_fit(title):\n",
        "  plt.title = title # setting the title\n",
        "  w1, b1 = get_params()\n",
        "  x1 = np.array([-30, 30]) # set the base range of plot\n",
        "  y1 = w1 * x1 + b1\n",
        "  plt.plot(x1, y1, 'r') # line plot\n",
        "  plt.scatter(X, y) # dataset points as scatter plot\n",
        "  plt.show()"
      ],
      "execution_count": 0,
      "outputs": []
    },
    {
      "cell_type": "code",
      "metadata": {
        "id": "WEAvol9GHpot",
        "colab_type": "code",
        "colab": {
          "base_uri": "https://localhost:8080/",
          "height": 269
        },
        "outputId": "4d7c85e9-0d77-41b2-dab8-18575c4ae5a9"
      },
      "source": [
        "plot_fit('Init model')"
      ],
      "execution_count": 63,
      "outputs": [
        {
          "output_type": "display_data",
          "data": {
            "image/png": "[encoded data removed]",
            "text/plain": [
              "<Figure size 432x288 with 1 Axes>"
            ]
          },
          "metadata": {
            "tags": []
          }
        }
      ]
    },
    {
      "cell_type": "markdown",
      "metadata": {
        "id": "bVTmNMTaH50a",
        "colab_type": "text"
      },
      "source": [
        "The first fit line is not the best fit and this is corrected going forward using Gradient descent."
      ]
    },
    {
      "cell_type": "code",
      "metadata": {
        "id": "HHrwSTPXHtWH",
        "colab_type": "code",
        "colab": {}
      },
      "source": [
        ""
      ],
      "execution_count": 0,
      "outputs": []
    }
  ]
}